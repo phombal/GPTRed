{
  "cells": [
    {
      "cell_type": "markdown",
      "metadata": {
        "id": "view-in-github",
        "colab_type": "text"
      },
      "source": [
        "<a href=\"https://colab.research.google.com/github/phombal/GPTRed/blob/main/LogisticRegressionCHATGPT.ipynb\" target=\"_parent\"><img src=\"https://colab.research.google.com/assets/colab-badge.svg\" alt=\"Open In Colab\"/></a>"
      ]
    },
    {
      "cell_type": "markdown",
      "metadata": {
        "id": "NNhXWlfxYrWA"
      },
      "source": []
    },
    {
      "cell_type": "code",
      "execution_count": null,
      "metadata": {
        "colab": {
          "base_uri": "https://localhost:8080/"
        },
        "id": "lDdy3tvE3iUs",
        "outputId": "a175060d-fb62-4593-e296-8141a2467e2e"
      },
      "outputs": [
        {
          "name": "stdout",
          "output_type": "stream",
          "text": [
            "Requirement already satisfied: flask-ngrok in /usr/local/lib/python3.10/dist-packages (0.0.25)\n",
            "Requirement already satisfied: Flask>=0.8 in /usr/local/lib/python3.10/dist-packages (from flask-ngrok) (2.2.5)\n",
            "Requirement already satisfied: requests in /usr/local/lib/python3.10/dist-packages (from flask-ngrok) (2.31.0)\n",
            "Requirement already satisfied: Werkzeug>=2.2.2 in /usr/local/lib/python3.10/dist-packages (from Flask>=0.8->flask-ngrok) (3.0.1)\n",
            "Requirement already satisfied: Jinja2>=3.0 in /usr/local/lib/python3.10/dist-packages (from Flask>=0.8->flask-ngrok) (3.1.2)\n",
            "Requirement already satisfied: itsdangerous>=2.0 in /usr/local/lib/python3.10/dist-packages (from Flask>=0.8->flask-ngrok) (2.1.2)\n",
            "Requirement already satisfied: click>=8.0 in /usr/local/lib/python3.10/dist-packages (from Flask>=0.8->flask-ngrok) (8.1.7)\n",
            "Requirement already satisfied: charset-normalizer<4,>=2 in /usr/local/lib/python3.10/dist-packages (from requests->flask-ngrok) (3.3.2)\n",
            "Requirement already satisfied: idna<4,>=2.5 in /usr/local/lib/python3.10/dist-packages (from requests->flask-ngrok) (3.6)\n",
            "Requirement already satisfied: urllib3<3,>=1.21.1 in /usr/local/lib/python3.10/dist-packages (from requests->flask-ngrok) (2.0.7)\n",
            "Requirement already satisfied: certifi>=2017.4.17 in /usr/local/lib/python3.10/dist-packages (from requests->flask-ngrok) (2023.11.17)\n",
            "Requirement already satisfied: MarkupSafe>=2.0 in /usr/local/lib/python3.10/dist-packages (from Jinja2>=3.0->Flask>=0.8->flask-ngrok) (2.1.3)\n"
          ]
        }
      ],
      "source": [
        "!pip install flask-ngrok"
      ]
    },
    {
      "cell_type": "code",
      "execution_count": null,
      "metadata": {
        "colab": {
          "base_uri": "https://localhost:8080/"
        },
        "id": "CBbupvib473s",
        "outputId": "eb7123fc-8b81-4b41-8a92-f252e3e33f78"
      },
      "outputs": [
        {
          "name": "stdout",
          "output_type": "stream",
          "text": [
            " * Serving Flask app '__main__'\n",
            " * Debug mode: off\n"
          ]
        },
        {
          "name": "stderr",
          "output_type": "stream",
          "text": [
            "INFO:werkzeug:\u001b[31m\u001b[1mWARNING: This is a development server. Do not use it in a production deployment. Use a production WSGI server instead.\u001b[0m\n",
            " * Running on http://127.0.0.1:5000\n",
            "INFO:werkzeug:\u001b[33mPress CTRL+C to quit\u001b[0m\n",
            "Exception in thread Thread-11:\n",
            "Traceback (most recent call last):\n",
            "  File \"/usr/local/lib/python3.10/dist-packages/urllib3/connection.py\", line 203, in _new_conn\n",
            "    sock = connection.create_connection(\n",
            "  File \"/usr/local/lib/python3.10/dist-packages/urllib3/util/connection.py\", line 85, in create_connection\n",
            "    raise err\n",
            "  File \"/usr/local/lib/python3.10/dist-packages/urllib3/util/connection.py\", line 73, in create_connection\n",
            "    sock.connect(sa)\n",
            "ConnectionRefusedError: [Errno 111] Connection refused\n",
            "\n",
            "The above exception was the direct cause of the following exception:\n",
            "\n",
            "Traceback (most recent call last):\n",
            "  File \"/usr/local/lib/python3.10/dist-packages/urllib3/connectionpool.py\", line 791, in urlopen\n",
            "    response = self._make_request(\n",
            "  File \"/usr/local/lib/python3.10/dist-packages/urllib3/connectionpool.py\", line 497, in _make_request\n",
            "    conn.request(\n",
            "  File \"/usr/local/lib/python3.10/dist-packages/urllib3/connection.py\", line 395, in request\n",
            "    self.endheaders()\n",
            "  File \"/usr/lib/python3.10/http/client.py\", line 1278, in endheaders\n",
            "    self._send_output(message_body, encode_chunked=encode_chunked)\n",
            "  File \"/usr/lib/python3.10/http/client.py\", line 1038, in _send_output\n",
            "    self.send(msg)\n",
            "  File \"/usr/lib/python3.10/http/client.py\", line 976, in send\n",
            "    self.connect()\n",
            "  File \"/usr/local/lib/python3.10/dist-packages/urllib3/connection.py\", line 243, in connect\n",
            "    self.sock = self._new_conn()\n",
            "  File \"/usr/local/lib/python3.10/dist-packages/urllib3/connection.py\", line 218, in _new_conn\n",
            "    raise NewConnectionError(\n",
            "urllib3.exceptions.NewConnectionError: <urllib3.connection.HTTPConnection object at 0x79f51331a3b0>: Failed to establish a new connection: [Errno 111] Connection refused\n",
            "\n",
            "The above exception was the direct cause of the following exception:\n",
            "\n",
            "Traceback (most recent call last):\n",
            "  File \"/usr/local/lib/python3.10/dist-packages/requests/adapters.py\", line 486, in send\n",
            "    resp = conn.urlopen(\n",
            "  File \"/usr/local/lib/python3.10/dist-packages/urllib3/connectionpool.py\", line 845, in urlopen\n",
            "    retries = retries.increment(\n",
            "  File \"/usr/local/lib/python3.10/dist-packages/urllib3/util/retry.py\", line 515, in increment\n",
            "    raise MaxRetryError(_pool, url, reason) from reason  # type: ignore[arg-type]\n",
            "urllib3.exceptions.MaxRetryError: HTTPConnectionPool(host='localhost', port=4040): Max retries exceeded with url: /api/tunnels (Caused by NewConnectionError('<urllib3.connection.HTTPConnection object at 0x79f51331a3b0>: Failed to establish a new connection: [Errno 111] Connection refused'))\n",
            "\n",
            "During handling of the above exception, another exception occurred:\n",
            "\n",
            "Traceback (most recent call last):\n",
            "  File \"/usr/lib/python3.10/threading.py\", line 1016, in _bootstrap_inner\n",
            "    self.run()\n",
            "  File \"/usr/lib/python3.10/threading.py\", line 1378, in run\n",
            "    self.function(*self.args, **self.kwargs)\n",
            "  File \"/usr/local/lib/python3.10/dist-packages/flask_ngrok.py\", line 70, in start_ngrok\n",
            "    ngrok_address = _run_ngrok()\n",
            "  File \"/usr/local/lib/python3.10/dist-packages/flask_ngrok.py\", line 35, in _run_ngrok\n",
            "    tunnel_url = requests.get(localhost_url).text  # Get the tunnel information\n",
            "  File \"/usr/local/lib/python3.10/dist-packages/requests/api.py\", line 73, in get\n",
            "    return request(\"get\", url, params=params, **kwargs)\n",
            "  File \"/usr/local/lib/python3.10/dist-packages/requests/api.py\", line 59, in request\n",
            "    return session.request(method=method, url=url, **kwargs)\n",
            "  File \"/usr/local/lib/python3.10/dist-packages/requests/sessions.py\", line 589, in request\n",
            "    resp = self.send(prep, **send_kwargs)\n",
            "  File \"/usr/local/lib/python3.10/dist-packages/requests/sessions.py\", line 703, in send\n",
            "    r = adapter.send(request, **kwargs)\n",
            "  File \"/usr/local/lib/python3.10/dist-packages/requests/adapters.py\", line 519, in send\n",
            "    raise ConnectionError(e, request=request)\n",
            "requests.exceptions.ConnectionError: HTTPConnectionPool(host='localhost', port=4040): Max retries exceeded with url: /api/tunnels (Caused by NewConnectionError('<urllib3.connection.HTTPConnection object at 0x79f51331a3b0>: Failed to establish a new connection: [Errno 111] Connection refused'))\n"
          ]
        }
      ],
      "source": [
        "from flask import Flask\n",
        "from flask_ngrok import run_with_ngrok\n",
        "\n",
        "app = Flask(__name__)\n",
        "run_with_ngrok(app)  # Initialize ngrok when the app is run\n",
        "\n",
        "@app.route('/')\n",
        "def hello():\n",
        "    return \"Hello, Flask on Google Colab!\"\n",
        "\n",
        "if __name__ == '__main__':\n",
        "    app.run()"
      ]
    },
    {
      "cell_type": "code",
      "execution_count": null,
      "metadata": {
        "colab": {
          "base_uri": "https://localhost:8080/",
          "height": 351
        },
        "id": "FBsJOZL26AYS",
        "outputId": "c61c2099-9315-4824-ff2a-e0a958e708a2"
      },
      "outputs": [
        {
          "name": "stdout",
          "output_type": "stream",
          "text": [
            "Collecting flask==0.12.2\n",
            "  Downloading Flask-0.12.2-py2.py3-none-any.whl (83 kB)\n",
            "\u001b[2K     \u001b[90m━━━━━━━━━━━━━━━━━━━━━━━━━━━━━━━━━━━━━━━━\u001b[0m \u001b[32m83.0/83.0 kB\u001b[0m \u001b[31m1.7 MB/s\u001b[0m eta \u001b[36m0:00:00\u001b[0m\n",
            "\u001b[?25hRequirement already satisfied: Jinja2>=2.4 in /usr/local/lib/python3.10/dist-packages (from flask==0.12.2) (3.1.2)\n",
            "Requirement already satisfied: Werkzeug>=0.7 in /usr/local/lib/python3.10/dist-packages (from flask==0.12.2) (3.0.1)\n",
            "Requirement already satisfied: click>=2.0 in /usr/local/lib/python3.10/dist-packages (from flask==0.12.2) (8.1.7)\n",
            "Requirement already satisfied: itsdangerous>=0.21 in /usr/local/lib/python3.10/dist-packages (from flask==0.12.2) (2.1.2)\n",
            "Requirement already satisfied: MarkupSafe>=2.0 in /usr/local/lib/python3.10/dist-packages (from Jinja2>=2.4->flask==0.12.2) (2.1.3)\n",
            "Installing collected packages: flask\n",
            "  Attempting uninstall: flask\n",
            "    Found existing installation: Flask 2.2.5\n",
            "    Uninstalling Flask-2.2.5:\n",
            "      Successfully uninstalled Flask-2.2.5\n",
            "Successfully installed flask-0.12.2\n"
          ]
        },
        {
          "data": {
            "application/vnd.colab-display-data+json": {
              "pip_warning": {
                "packages": [
                  "flask"
                ]
              }
            }
          },
          "metadata": {},
          "output_type": "display_data"
        }
      ],
      "source": [
        "!pip install flask==0.12.2  # Newer versions of flask don't work in Colab\n",
        "                            # See https://github.com/plotly/dash/issues/257"
      ]
    },
    {
      "cell_type": "code",
      "execution_count": null,
      "metadata": {
        "colab": {
          "background_save": true,
          "base_uri": "https://localhost:8080/"
        },
        "id": "XVuHlHTa31bm",
        "outputId": "b568f645-7aa0-40c5-9ff7-67d0717714cb"
      },
      "outputs": [
        {
          "name": "stdout",
          "output_type": "stream",
          "text": [
            " * Serving Flask app '__main__'\n",
            " * Debug mode: off\n"
          ]
        },
        {
          "name": "stderr",
          "output_type": "stream",
          "text": [
            "INFO:werkzeug:\u001b[31m\u001b[1mWARNING: This is a development server. Do not use it in a production deployment. Use a production WSGI server instead.\u001b[0m\n",
            " * Running on http://127.0.0.1:5000\n",
            "INFO:werkzeug:\u001b[33mPress CTRL+C to quit\u001b[0m\n",
            "Exception in thread Thread-12:\n",
            "Traceback (most recent call last):\n",
            "  File \"/usr/local/lib/python3.10/dist-packages/urllib3/connection.py\", line 203, in _new_conn\n",
            "    sock = connection.create_connection(\n",
            "  File \"/usr/local/lib/python3.10/dist-packages/urllib3/util/connection.py\", line 85, in create_connection\n",
            "    raise err\n",
            "  File \"/usr/local/lib/python3.10/dist-packages/urllib3/util/connection.py\", line 73, in create_connection\n",
            "    sock.connect(sa)\n",
            "ConnectionRefusedError: [Errno 111] Connection refused\n",
            "\n",
            "The above exception was the direct cause of the following exception:\n",
            "\n",
            "Traceback (most recent call last):\n",
            "  File \"/usr/local/lib/python3.10/dist-packages/urllib3/connectionpool.py\", line 791, in urlopen\n",
            "    response = self._make_request(\n",
            "  File \"/usr/local/lib/python3.10/dist-packages/urllib3/connectionpool.py\", line 497, in _make_request\n",
            "    conn.request(\n",
            "  File \"/usr/local/lib/python3.10/dist-packages/urllib3/connection.py\", line 395, in request\n",
            "    self.endheaders()\n",
            "  File \"/usr/lib/python3.10/http/client.py\", line 1278, in endheaders\n",
            "    self._send_output(message_body, encode_chunked=encode_chunked)\n",
            "  File \"/usr/lib/python3.10/http/client.py\", line 1038, in _send_output\n",
            "    self.send(msg)\n",
            "  File \"/usr/lib/python3.10/http/client.py\", line 976, in send\n",
            "    self.connect()\n",
            "  File \"/usr/local/lib/python3.10/dist-packages/urllib3/connection.py\", line 243, in connect\n",
            "    self.sock = self._new_conn()\n",
            "  File \"/usr/local/lib/python3.10/dist-packages/urllib3/connection.py\", line 218, in _new_conn\n",
            "    raise NewConnectionError(\n",
            "urllib3.exceptions.NewConnectionError: <urllib3.connection.HTTPConnection object at 0x79f513239150>: Failed to establish a new connection: [Errno 111] Connection refused\n",
            "\n",
            "The above exception was the direct cause of the following exception:\n",
            "\n",
            "Traceback (most recent call last):\n",
            "  File \"/usr/local/lib/python3.10/dist-packages/requests/adapters.py\", line 486, in send\n",
            "    resp = conn.urlopen(\n",
            "  File \"/usr/local/lib/python3.10/dist-packages/urllib3/connectionpool.py\", line 845, in urlopen\n",
            "    retries = retries.increment(\n",
            "  File \"/usr/local/lib/python3.10/dist-packages/urllib3/util/retry.py\", line 515, in increment\n",
            "    raise MaxRetryError(_pool, url, reason) from reason  # type: ignore[arg-type]\n",
            "urllib3.exceptions.MaxRetryError: HTTPConnectionPool(host='localhost', port=4040): Max retries exceeded with url: /api/tunnels (Caused by NewConnectionError('<urllib3.connection.HTTPConnection object at 0x79f513239150>: Failed to establish a new connection: [Errno 111] Connection refused'))\n",
            "\n",
            "During handling of the above exception, another exception occurred:\n",
            "\n",
            "Traceback (most recent call last):\n",
            "  File \"/usr/lib/python3.10/threading.py\", line 1016, in _bootstrap_inner\n",
            "    self.run()\n",
            "  File \"/usr/lib/python3.10/threading.py\", line 1378, in run\n",
            "    self.function(*self.args, **self.kwargs)\n",
            "  File \"/usr/local/lib/python3.10/dist-packages/flask_ngrok.py\", line 70, in start_ngrok\n",
            "    ngrok_address = _run_ngrok()\n",
            "  File \"/usr/local/lib/python3.10/dist-packages/flask_ngrok.py\", line 35, in _run_ngrok\n",
            "    tunnel_url = requests.get(localhost_url).text  # Get the tunnel information\n",
            "  File \"/usr/local/lib/python3.10/dist-packages/requests/api.py\", line 73, in get\n",
            "    return request(\"get\", url, params=params, **kwargs)\n",
            "  File \"/usr/local/lib/python3.10/dist-packages/requests/api.py\", line 59, in request\n",
            "    return session.request(method=method, url=url, **kwargs)\n",
            "  File \"/usr/local/lib/python3.10/dist-packages/requests/sessions.py\", line 589, in request\n",
            "    resp = self.send(prep, **send_kwargs)\n",
            "  File \"/usr/local/lib/python3.10/dist-packages/requests/sessions.py\", line 703, in send\n",
            "    r = adapter.send(request, **kwargs)\n",
            "  File \"/usr/local/lib/python3.10/dist-packages/requests/adapters.py\", line 519, in send\n",
            "    raise ConnectionError(e, request=request)\n",
            "requests.exceptions.ConnectionError: HTTPConnectionPool(host='localhost', port=4040): Max retries exceeded with url: /api/tunnels (Caused by NewConnectionError('<urllib3.connection.HTTPConnection object at 0x79f513239150>: Failed to establish a new connection: [Errno 111] Connection refused'))\n"
          ]
        }
      ],
      "source": [
        "# flask_ngrok_example.py\n",
        "from flask import Flask\n",
        "from flask_ngrok import run_with_ngrok\n",
        "\n",
        "app = Flask(__name__)\n",
        "run_with_ngrok(app)  # Start ngrok when app is run\n",
        "\n",
        "@app.route(\"/\")\n",
        "def hello():\n",
        "    return \"Hello World!\"\n",
        "\n",
        "if __name__ == '__main__':\n",
        "    app.run()  # If address is in use, may need to terminate other sessions:\n",
        "               # Runtime > Manage Sessions > Terminate Other Sessions"
      ]
    },
    {
      "cell_type": "code",
      "execution_count": null,
      "metadata": {
        "id": "4I08gQws4mJ0"
      },
      "outputs": [],
      "source": [
        "from flask import"
      ]
    },
    {
      "cell_type": "code",
      "execution_count": null,
      "metadata": {
        "colab": {
          "base_uri": "https://localhost:8080/"
        },
        "id": "1DORL4dvYtf8",
        "outputId": "c6d11cbe-c67f-47b7-f8a4-f6485ae45e04"
      },
      "outputs": [
        {
          "name": "stdout",
          "output_type": "stream",
          "text": [
            "['Stanford has retained Mark Filip, a former Deputy Attorney General, to lead its investigation of the University president’s research. Some Stanford scientists criticized actions taken by the Board of Trustees, which will direct the review, and said that President Marc Tessier-Lavigne should step down for the duration of the investigation.\\n\\nThe statement, attributed to Carol Lam — head of the special committee appointed to investigate Tessier-Lavigne last week — and Jerry Yang — chairman of the Board of Trustees — made no mention of Felix Baker, the trustee who stepped down from the committee after The Daily raised questions of conflict of interest to the board.\\n\\nBaker’s hedge fund, which he co-founded with his brother, has $18m of stock in Tessier-Lavigne’s biotech company. Aidan Ryan, senior vice president of public relations firm Edelman which was contracted by the special committee to handle communications, said in an interview that he would “track down an answer” on whether Baker disclosed his financial interests before being appointed to the committee. He later emailed that he did “not have information regarding Dr. Baker.”\\n\\nLam and Yang wrote that “Filip — in consultation with the Committee, as well as Stanford University faculty — will engage a panel of leading scientific experts who are highly regarded in the appropriate fields and independent from Stanford University. ” Some experts found this insufficient.\\n\\n“One would hope that concerns in these scientific papers would be investigated by a team of people with expert knowledge in image forensics and molecular biology, not by lawyers,” wrote Elisabeth Bik, the prominent scientific misconduct investigator who has reviewed a number of Tessier-Lavigne’s papers. Contracting Filip “seems more like an act to make sure the reputation of the university is protected than a step forward to enhance the credibility of the Board investigating these allegations.”\\n\\n\\n\\nBik hoped that biomedical image forensics experts would be included on the panel and expressed concerns about the selection process. “It is wonderful that scientific experts will be involved as well, but the fact that a law firm will assign the experts does not institute a lot of trust in how these experts will be selected,” Bik wrote.\\n\\nAccording to the special committee’s statement, “This process — and in particular the review by a panel of scientists — will be informed by established processes for such research-related evaluations.”\\n\\nThe board did not explicitly outline what policies would inform the review. The University has a Research Policy Handbook that has been in effect for decades, but Ryan would not confirm whether the president would be held to these policies and guidelines, which govern other research at Stanford.\\n\\nAccording to Section 1.5 on Academic Authorship, “There is a tight coupling between authorship and responsibility.”\\n\\n\\n\\nThe handbook states that if “the name of a faculty member has been included on a paper resulting from the relatively independent experiments done by a student or fellow” and “the data are then shown to be faulty, or worse, invented, it seems clear … that the faculty member is responsible.”\\n\\nAccording to the handbook, “When one assumes coauthorship, a still higher duty of certainty prevails. The defense of minimal participation in work done in one’s laboratory is generally questionable; surely it is entirely inapplicable when one is coauthor of the disputed work.”\\n\\nThe initial statement provided by the University last Monday said Tessier-Lavigne was “not involved in any way” with the alleged alteration in papers on which he was listed as a co-author and Tessier-Lavigne’s letter to the faculty also said images which had raised scrutiny “are from collaborators’ laboratories.”\\n\\nSection 1.6 of the handbook states that “All authors in a group effort have a shared responsibility for the published result and should have the opportunity to review all sample preparation procedures and data, as well as all data acquisition and analysis procedures.”\\n\\nDavid Chassin, a senior scientist who manages a group of researchers at the SLAC National Accelerator Laboratory, wrote that “This story is evolving in ways that make me question my decision to come to Stanford and SLAC to conduct my research in the first place.”\\n\\n“Based on the guide, had the research been conducted at SLAC I imagine we would already be processing MTL’s paperwork for dismissal for cause,” Chassin wrote. “The fact that his past research activities did not conform with Stanford’s standards at that time is the most relevant question in my mind, and these revelations should disqualify him from holding any current position at Stanford or SLAC. The credibility of the entire organization is at stake and it should be painfully obvious to all that his personal privilege is subordinated to that of the organization he leads.”\\n\\n\\n\\nOther researchers agreed with Chassin. “There’s too much at stake,” wrote a Stanford faculty member who has served in several senior administrative positions and requested anonymity due to fear of professional repercussions. “If I were him, I would step aside, certainly while the investigation is [ongoing].”\\n\\nJohn Ioannidis, a prominent professor at the Stanford School of Medicine, wrote that, while it was not required, “if [Tessier-Lavigne] did step down, I would see it as a brave and responsible act, fit for someone who has been widely known as a giant in science.” He added that publicly sharing the conclusions of the independent assessment process “would strengthen the perceived credibility of the investigation.”\\n\\nRyan did not answer questions about what information would be released from the investigation or whether the panel of scientists would be publicly announced.\\n\\n\\n\\n\\n\\n“One boggles at the idea that the board doesn’t already see what they must do,” Chassin wrote. The board “seems to be still hoping this will blow over when it’s becoming clear that the faculty is not going to stand for this.”\\n\\nRyan did not answer questions about whether the committee planned to ask Tessier-Lavigne to step aside. Tessier-Lavigne, through a University spokesperson, declined The Daily’s request for an interview.', 'A former Harvard provost, a Nobel laureate and a former Princeton president are among the scientists who have been tasked with investigating allegations of scientific misconduct in research papers co-authored by Stanford President Marc Tessier-Lavigne. A spokesperson for the committee confirmed that Tessier-Lavigne has not been asked to step aside from his role as President during the investigation, which has continued to receive criticism from prominent scientists and Stanford insiders.\\n\\nThe Daily first reported years of allegations in an article last November, uncovering accusations of serious image manipulation in several papers co-authored by the University president across two decades and four institutions of his influential career. The University, which responded to questions sent to Tessier-Lavigne, wrote that Tessier-Lavigne had been informed of the issues in 2015 and attempted to correct them. They also claimed the alleged manipulation had no bearing on the findings of the papers, an assertion that has been repeatedly refuted by biologists and even the journal Science. Less than a day later, the Board of Trustees announced an investigation.\\n\\nThe investigation, which will be funded by the University, has no budget cap and no projected timeline, according to the spokesperson for the special committee. The Friday announcement contained the names of the five scientists entrusted with investigating Tessier-Lavigne’s research.\\n\\n\\n\\nRandy Schekman won the Nobel prize in 2013 for his work in cell biology and has also served as a journal editor; Shirley Tilghman served as Princeton’s 19th president from 2001 to 2013 – the second female president in Ivy League history – and was named one of the 50 most important people in science for her work in cell biology and Steven Hyman served as the provost of Harvard from 2001 to 2011, as well as a journal editor from 2003-2017. They are joined by Hollis Cline, the chair of Scripps’ Department of Neuroscience, and Kafui Dzirasa, a Duke professor.\\n\\nThe high-profile biologists of various specialties will present their findings to Mark Filip, the former deputy attorney general leading the investigation.\\n\\nFilip will then present a report to the special committee composed of four members of the board of trustees, who will then present their conclusions to the full board before an update is released to the broader community.\\n\\nElisabeth Bik, the research misconduct investigator who has uncovered several of the alleged image manipulations in papers co-authored by the University president after she was approached by The Daily last fall, said it was “unfortunate” the investigation did not have a projected timeline.\\n\\n\\n\\n“I hope the investigation will not take years to resolve, and will not be kept confidential, as we have seen with other universities,” she wrote. The spokesperson for the committee would not confirm that the report ultimately compiled by the scientists and Filip would be made public, writing that responsibility for communicating the findings of the investigation would rest with the full Board of Trustees.\\n\\nStill, the addition of renowned scientists to the investigation may increase the legitimacy of a process that has faced several stumbles getting off the ground.\\n\\nAccording to the special committee’s spokesperson, the scientists were all thoroughly interviewed by Filip to determine impartiality and rule out conflicts of interest. This due diligence is especially important according to Bik, who has been concerned that the investigation into Tessier-Lavigne’s work is being led by his colleagues and friends. One of the trustees on the special committee, Felix Baker, stepped aside after it was revealed he maintained an $18 million position in Tessier-Lavigne’s biotechnology company Denali Therapeutics. The University and its Board of Trustees have not commented on why Baker was selected and if he disclosed his financial connections to Tessier-Lavigne. (Baker bears no relation to the author of this article.)\\n\\n“I don’t understand why we haven’t heard anything from the administration or board about the conflict of interest,” said one School of Medicine professor, who requested anonymity to speak freely about a sensitive topic. “I don’t understand why the Board of Trustees member agreed to be on the committee with a big financial conflict. Most importantly I don’t understand why [Tessier-Lavigne] did not object to having this board member be on the committee. There was silence about this until The Daily reported it. From the outside this doesn’t look good.”\\n\\n\\n\\nThe committee has also faced criticism for its slow progress by Stanford scientists and outside academics from peer institutions. Last month, Science decided to affix Editorial Expressions of Concern to two papers on which Tessier-Lavigne was the senior author. The committee had not yet reached out to Science when the expressions of concern were issued, weeks after the investigation began.\\n\\nHolden Thorp, the journal’s editor-in-chief, explained that Science opted to issue the expressions of concern, which serve as placeholders before an ultimate conclusion is reached, rather than immediately issue a correction or retraction. “The last thing we want to do is take action on this paper and then the investigation turns up something else,” he said.\\n\\nAnd the scientists may indeed have more to turn up. The spokesperson for the special committee evaded questions about whether the committee was aware of concerns not yet publicly raised (The Daily is aware that some such concerns exist) and wrote that the scientists were free to examine any issues they found appropriate.\\n\\n\\n\\nSome experts have voiced their concerns about the lack of transparency around the review process. Nancy Olivieri, a world-renowned scientific whistleblower, wrote in an email to The Daily that she believed the latest update from the committee was “all academic jargon for ‘we are still pretending to investigate.’”\\n\\nOne associate director in Stanford’s administration, who requested anonymity due to fear of professional repercussions, wrote that “In speaking with numerous academics and alumni, nearly everyone is surprised that the Stanford president has not stepped down or at least stepped aside from his duties while the investigation is taking place. Many have pointed to the board who appear to be protecting the individual rather than the institution.”\\n\\nStill, some urge caution. An op-ed published in The Daily last month authored by several Stanford scientists warned against premature conclusions, following calls by other Stanford scientists for Tessier-Lavigne to step down. The scientists wrote that they felt an investigation was justified and that the community should wait to hear its findings, pointing out that Tessier-Lavigne has performed some exceptionally important science. “These accomplishments do not guarantee that every paper he has authored is free of errors,” wrote the authors, “but collectively they demonstrate a high level of scientific rigor and reproducibility.”\\n\\n\\n\\nThe content of the op-ed was not supported by all members of the Stanford scientific community. One colleague of the authors and a School of Medicine professor, who requested anonymity to speak freely about coworkers, wrote that the piece contained “arrogance of scientific seniority.”\\n\\nThe professor continued, “Should we be concluding from their statement that scientific seniority and stardom indemnify one from a standard of scrutiny, and an expectation of honesty and rigor, that apply to those farther down the ‘food chain’ of science? (…) I find that a sad and disturbing aspect of their statement, and one that is very hard to ignore.”\\n\\n', 'Stanford’s 2021-2022 Title IX report, released publicly on Dec. 1, lacks detail that had been included in previous years’ reports about the outcomes of informal resolutions to sexual misconduct allegations. The University offered inconsistent explanations in statements.\\n\\nTitle IX reports in previous years included specifics about University sanctions. In the 2019-2020 report, the conclusion of an informal resolution of an investigation of “sexual harassment in a student setting” by a male graduate student was “no contact with complainant; loss of privileges; sexual citizenship training; alcohol counseling.” In the 2020-2021 report, a male undergraduate involved in an informal resolution for the same conduct was subject to “deletion of all social media accounts; training/remediation.”\\n\\nIn the 2021-2022 report, the outcomes of informal resolutions were not reported. The report did not explain or note this change.\\n\\nInformal resolutions involve parties engaging in mediation with the help of an outside party to reach a mutual agreement. Formal resolution procedure involves an external group investigating the allegations to determine whether to proceed to a hearing to review evidence.\\n\\nUniversity spokesperson Dee Mostofi wrote in a statement that “this year, due to the very low number of cases handled through the informal resolution process and the increased likelihood of being able to identify specific individuals who did utilize the informal process this year, we did not release more detailed outcome information about the informal resolution cases out of respect for the privacy of the individuals involved.”\\n\\n\\n\\nPrevious Title IX reports, though, show that the University has consistently reported outcomes of informal resolutions despite a small number of cases. In the 2020-2021 report there was one informal resolution across the report’s categories — and the outcome was reported. The 2021-2022 report included three informal resolutions without releasing their specific outcomes and an overall 118% increase of sexual violence reports from the previous year.\\n\\nMostofi wrote that “this reporting does not reflect a policy change,” in response to questions about why the data was reported in previous years and not in this year.\\n\\nStanford Law School professor Michele Dauber contested the University’s position. “It’s hard to square their statement that they haven’t changed policy with the fact that last year, when there was only one case, they published these data and this year when there were three cases they did not.”\\n\\n“It is not inappropriate for the University to observe some rule about small numbers and the risk of disclosure. However, the University should be transparent about that rule, including specifying what qualifies as a small number,” Dauber wrote.\\n\\n\\n\\nAccording to email exchanges obtained by The Daily, Dauber raised concerns over the less detailed report on Dec. 12 in an email to University Provost Persis Drell, Title IX Director Stephen Chen, Vice Provost for Institutional Equity, Access & Community Patrick Dunkley and others. Dauber wrote that “the reports have become less detailed this year…regarding outcomes and sanctions.”\\n\\n“I assume that this is just an oversight,” she wrote. “However, at this point, the data is simply missing and I would like to have it included.”\\n\\nChen wrote in a Dec. 16 response that the “absence in some categories is consistent with how we reported similar patterns in prior years.”\\n\\nUndergraduate Senate co-chair Amira Dehmani ’24 disagreed that the reporting was consistent. “It definitely appears like they are sharing less information than before, which is not good,” Dehmani wrote.\\n\\n“Having fewer details makes it difficult for advocates and survivors to have the data necessary to sway the administration to make changes to support them,” Dehmani wrote. “It creates a paradox: we need data to be convinced about needed reform, but we won’t collect or share the data necessary to do that.”\\n\\nMostofi wrote that “for the last six years, Stanford has been producing and sharing an annual report on the university’s efforts to address sexual harassment in our community with as much transparency as possible. Our aim is two-fold, for the community to understand the seriousness with which Stanford engages in issues of sexual harassment and our comprehensive approach to this problem.”\\n\\n\\n\\nMostofi did not respond to questions about whether the data on outcomes of informal resolutions would be provided.', 'Though the article drew some criticism for its portrayal of Greek life as an innocent actor in the University’s alleged “war on fun,” the article also galvanized outrage over the steady decline of spontaneity. The piece was followed by other student articles in campus publications, including an op-ed earlier this month in The Stanford Review titled “Take Stanford Back: A Call to Revitalize Fun.”\\n\\nArman Sharma ’24, author of the Review op-ed, said he wrote his piece in response to “dead silent” bike rides home on weekend nights. He said his friends in the Kappa Alpha (KA) fraternity told him “about the bureaucratic nightmare that they had to go through to get [the annual KAbo party] approved. And I was like, this doesn’t really make sense for a college campus. [One] like this, in particular, that has been known as America’s dream school for a very long time.”\\n\\nComplaints have spread beyond the initial concentration of those in or around Greek life circles — according to several students, a marked decline in social events of all types has swept Stanford as a direct result of actions taken by the administration.\\n\\nOne Voluntary Student Organization leader, who requested anonymity because much of the group’s funding is supplied by the office they criticized, said, “You feel like you’re being audited by the IRS to get boba for people.”\\n\\n\\n\\nThe student said the University is “excessively bureaucratic” and those trying to host events are “burnt out” from trying to navigate a ruleset that “has expanded and [adds] challenges that don’t need to be there.”\\n\\nHarris, who also responded on behalf of the Office of Student Engagement, wrote that the University has worked to expand social opportunities. “Student Affairs, student leaders, and campus partners have been working earnestly to provide many and vibrant social options for undergraduates this fall,” Harris wrote.\\n\\n“We now have funds specifically earmarked to support all Row houses, Greek and non-Greek, in hosting all-neighborhood or all-campus events,” Harris added.\\n\\nBut some students alleged that programs like Cardinal Nights have not been funded and advertised enough to serve as real alternatives, especially since they have been actively hampered by changing school policies. (Cardinal Nights disappeared in September 2021 after a departmental reshuffling, though it has returned under new management.)\\n\\nAnd other efforts have proven ineffective. In April 2022, the University created a Student Social Life Accelerator Task Force, claiming “Stanford has long been known for its fun, irreverent, whimsical social scene. Yet it just hasn’t felt as vibrant as it could be.” According to students, the task force has failed to make progress. (The co-chairs of the task force did not respond to a request for comment.)\\n\\n\\n\\nOther policies have also served as cause for concern among some in the student body, including changes to the alcohol policy in May 2021. Multiple members of residential staff said that the changes reversed a previous “open door” understanding, where students who were underage could drink in their rooms under supervision from their residential staff.\\n\\nThe Daily spoke with three employees of the Office of Substance Use Programs Education & Resources (SUPER) who requested anonymity after supervisors warned staff against communicating with reporters, according to emails provided to The Daily.\\n\\nOne employee characterized the new alcohol policy as “hopelessly out of touch with reality” and “absolute s**t.” Students interviewed agreed, broadly characterizing it as an unhelpful, adversarial system.\\n\\nOne Resident Assistant (RA), who requested anonymity because of an Office of Residential Education policy preventing RAs from speaking with reporters, explained that “a lot of [Resident Fellows] in the neighborhood have said, ‘This is the University’s policy on alcohol and drugs, let’s make our own policy.’ [They] are telling us, don’t worry about half of this stuff.” When asked about RFs disavowing University alcohol policy, Harris declined to comment.', 'There are many rabbit holes on the internet not worth going down. But a comment on an online science forum called PubPeer convinced me something might be at the bottom of this one. “This highly cited Science paper is riddled with problematic blot images,” it said. That anonymous 2015 observation helped spark a chain of events that led Stanford’s president, Marc Tessier-Lavigne, to announce his resignation this month.\\n\\nDr. Tessier-Lavigne made the announcement after a university investigation found that as a neuroscientist and biotechnology executive, he had fostered an environment that led to “unusual frequency of manipulation of research data and/or substandard scientific practices” across labs at multiple institutions. Stanford opened the investigation in response to reporting I published last autumn in The Stanford Daily, taking a closer look at scientific papers he published from 1999 to 2012.\\n\\nThe review focused on five major papers for which he was listed as a principal author, finding evidence of manipulation of research data in four of them and a lack of scientific rigor in the fifth, a famous study that he said would “turn our current understanding of Alzheimer’s on its head.” The investigation’s conclusions did not line up with my reporting on some key points, which may, in part, reflect the fact that several people with knowledge of the case would not participate in the university’s investigation because it declined to guarantee them anonymity. It did confirm issues in every one of the papers I reported on. (My team of editors, advisers and lawyers at The Stanford Daily stand by our work.)\\n\\nIn retrospect, much of the data manipulation is obvious. Although the report concluded that Dr. Tessier-Lavigne was unaware at the time of the manipulation that occurred in his labs, in papers on which he served as a principal author, images had been improperly copied and pasted or spliced; results had been duplicated and passed off as separate experiments; and in some instances — in which the report found an intention to hide the manipulation — panels had been stretched, flipped and doctored in ways that altered the published experimental data. All of this happened before he became Stanford’s president. Why, then, didn’t it come out sooner?']\n"
          ]
        }
      ],
      "source": [
        "author = []\n",
        "theo1 = \"\"\"Stanford has retained Mark Filip, a former Deputy Attorney General, to lead its investigation of the University president’s research. Some Stanford scientists criticized actions taken by the Board of Trustees, which will direct the review, and said that President Marc Tessier-Lavigne should step down for the duration of the investigation.\n",
        "\n",
        "The statement, attributed to Carol Lam — head of the special committee appointed to investigate Tessier-Lavigne last week — and Jerry Yang — chairman of the Board of Trustees — made no mention of Felix Baker, the trustee who stepped down from the committee after The Daily raised questions of conflict of interest to the board.\n",
        "\n",
        "Baker’s hedge fund, which he co-founded with his brother, has $18m of stock in Tessier-Lavigne’s biotech company. Aidan Ryan, senior vice president of public relations firm Edelman which was contracted by the special committee to handle communications, said in an interview that he would “track down an answer” on whether Baker disclosed his financial interests before being appointed to the committee. He later emailed that he did “not have information regarding Dr. Baker.”\n",
        "\n",
        "Lam and Yang wrote that “Filip — in consultation with the Committee, as well as Stanford University faculty — will engage a panel of leading scientific experts who are highly regarded in the appropriate fields and independent from Stanford University. ” Some experts found this insufficient.\n",
        "\n",
        "“One would hope that concerns in these scientific papers would be investigated by a team of people with expert knowledge in image forensics and molecular biology, not by lawyers,” wrote Elisabeth Bik, the prominent scientific misconduct investigator who has reviewed a number of Tessier-Lavigne’s papers. Contracting Filip “seems more like an act to make sure the reputation of the university is protected than a step forward to enhance the credibility of the Board investigating these allegations.”\n",
        "\n",
        "\n",
        "\n",
        "Bik hoped that biomedical image forensics experts would be included on the panel and expressed concerns about the selection process. “It is wonderful that scientific experts will be involved as well, but the fact that a law firm will assign the experts does not institute a lot of trust in how these experts will be selected,” Bik wrote.\n",
        "\n",
        "According to the special committee’s statement, “This process — and in particular the review by a panel of scientists — will be informed by established processes for such research-related evaluations.”\n",
        "\n",
        "The board did not explicitly outline what policies would inform the review. The University has a Research Policy Handbook that has been in effect for decades, but Ryan would not confirm whether the president would be held to these policies and guidelines, which govern other research at Stanford.\n",
        "\n",
        "According to Section 1.5 on Academic Authorship, “There is a tight coupling between authorship and responsibility.”\n",
        "\n",
        "\n",
        "\n",
        "The handbook states that if “the name of a faculty member has been included on a paper resulting from the relatively independent experiments done by a student or fellow” and “the data are then shown to be faulty, or worse, invented, it seems clear … that the faculty member is responsible.”\n",
        "\n",
        "According to the handbook, “When one assumes coauthorship, a still higher duty of certainty prevails. The defense of minimal participation in work done in one’s laboratory is generally questionable; surely it is entirely inapplicable when one is coauthor of the disputed work.”\n",
        "\n",
        "The initial statement provided by the University last Monday said Tessier-Lavigne was “not involved in any way” with the alleged alteration in papers on which he was listed as a co-author and Tessier-Lavigne’s letter to the faculty also said images which had raised scrutiny “are from collaborators’ laboratories.”\n",
        "\n",
        "Section 1.6 of the handbook states that “All authors in a group effort have a shared responsibility for the published result and should have the opportunity to review all sample preparation procedures and data, as well as all data acquisition and analysis procedures.”\n",
        "\n",
        "David Chassin, a senior scientist who manages a group of researchers at the SLAC National Accelerator Laboratory, wrote that “This story is evolving in ways that make me question my decision to come to Stanford and SLAC to conduct my research in the first place.”\n",
        "\n",
        "“Based on the guide, had the research been conducted at SLAC I imagine we would already be processing MTL’s paperwork for dismissal for cause,” Chassin wrote. “The fact that his past research activities did not conform with Stanford’s standards at that time is the most relevant question in my mind, and these revelations should disqualify him from holding any current position at Stanford or SLAC. The credibility of the entire organization is at stake and it should be painfully obvious to all that his personal privilege is subordinated to that of the organization he leads.”\n",
        "\n",
        "\n",
        "\n",
        "Other researchers agreed with Chassin. “There’s too much at stake,” wrote a Stanford faculty member who has served in several senior administrative positions and requested anonymity due to fear of professional repercussions. “If I were him, I would step aside, certainly while the investigation is [ongoing].”\n",
        "\n",
        "John Ioannidis, a prominent professor at the Stanford School of Medicine, wrote that, while it was not required, “if [Tessier-Lavigne] did step down, I would see it as a brave and responsible act, fit for someone who has been widely known as a giant in science.” He added that publicly sharing the conclusions of the independent assessment process “would strengthen the perceived credibility of the investigation.”\n",
        "\n",
        "Ryan did not answer questions about what information would be released from the investigation or whether the panel of scientists would be publicly announced.\n",
        "\n",
        "\n",
        "\n",
        "\n",
        "\n",
        "“One boggles at the idea that the board doesn’t already see what they must do,” Chassin wrote. The board “seems to be still hoping this will blow over when it’s becoming clear that the faculty is not going to stand for this.”\n",
        "\n",
        "Ryan did not answer questions about whether the committee planned to ask Tessier-Lavigne to step aside. Tessier-Lavigne, through a University spokesperson, declined The Daily’s request for an interview.\"\"\"\n",
        "theo2 = \"\"\"A former Harvard provost, a Nobel laureate and a former Princeton president are among the scientists who have been tasked with investigating allegations of scientific misconduct in research papers co-authored by Stanford President Marc Tessier-Lavigne. A spokesperson for the committee confirmed that Tessier-Lavigne has not been asked to step aside from his role as President during the investigation, which has continued to receive criticism from prominent scientists and Stanford insiders.\n",
        "\n",
        "The Daily first reported years of allegations in an article last November, uncovering accusations of serious image manipulation in several papers co-authored by the University president across two decades and four institutions of his influential career. The University, which responded to questions sent to Tessier-Lavigne, wrote that Tessier-Lavigne had been informed of the issues in 2015 and attempted to correct them. They also claimed the alleged manipulation had no bearing on the findings of the papers, an assertion that has been repeatedly refuted by biologists and even the journal Science. Less than a day later, the Board of Trustees announced an investigation.\n",
        "\n",
        "The investigation, which will be funded by the University, has no budget cap and no projected timeline, according to the spokesperson for the special committee. The Friday announcement contained the names of the five scientists entrusted with investigating Tessier-Lavigne’s research.\n",
        "\n",
        "\n",
        "\n",
        "Randy Schekman won the Nobel prize in 2013 for his work in cell biology and has also served as a journal editor; Shirley Tilghman served as Princeton’s 19th president from 2001 to 2013 – the second female president in Ivy League history – and was named one of the 50 most important people in science for her work in cell biology and Steven Hyman served as the provost of Harvard from 2001 to 2011, as well as a journal editor from 2003-2017. They are joined by Hollis Cline, the chair of Scripps’ Department of Neuroscience, and Kafui Dzirasa, a Duke professor.\n",
        "\n",
        "The high-profile biologists of various specialties will present their findings to Mark Filip, the former deputy attorney general leading the investigation.\n",
        "\n",
        "Filip will then present a report to the special committee composed of four members of the board of trustees, who will then present their conclusions to the full board before an update is released to the broader community.\n",
        "\n",
        "Elisabeth Bik, the research misconduct investigator who has uncovered several of the alleged image manipulations in papers co-authored by the University president after she was approached by The Daily last fall, said it was “unfortunate” the investigation did not have a projected timeline.\n",
        "\n",
        "\n",
        "\n",
        "“I hope the investigation will not take years to resolve, and will not be kept confidential, as we have seen with other universities,” she wrote. The spokesperson for the committee would not confirm that the report ultimately compiled by the scientists and Filip would be made public, writing that responsibility for communicating the findings of the investigation would rest with the full Board of Trustees.\n",
        "\n",
        "Still, the addition of renowned scientists to the investigation may increase the legitimacy of a process that has faced several stumbles getting off the ground.\n",
        "\n",
        "According to the special committee’s spokesperson, the scientists were all thoroughly interviewed by Filip to determine impartiality and rule out conflicts of interest. This due diligence is especially important according to Bik, who has been concerned that the investigation into Tessier-Lavigne’s work is being led by his colleagues and friends. One of the trustees on the special committee, Felix Baker, stepped aside after it was revealed he maintained an $18 million position in Tessier-Lavigne’s biotechnology company Denali Therapeutics. The University and its Board of Trustees have not commented on why Baker was selected and if he disclosed his financial connections to Tessier-Lavigne. (Baker bears no relation to the author of this article.)\n",
        "\n",
        "“I don’t understand why we haven’t heard anything from the administration or board about the conflict of interest,” said one School of Medicine professor, who requested anonymity to speak freely about a sensitive topic. “I don’t understand why the Board of Trustees member agreed to be on the committee with a big financial conflict. Most importantly I don’t understand why [Tessier-Lavigne] did not object to having this board member be on the committee. There was silence about this until The Daily reported it. From the outside this doesn’t look good.”\n",
        "\n",
        "\n",
        "\n",
        "The committee has also faced criticism for its slow progress by Stanford scientists and outside academics from peer institutions. Last month, Science decided to affix Editorial Expressions of Concern to two papers on which Tessier-Lavigne was the senior author. The committee had not yet reached out to Science when the expressions of concern were issued, weeks after the investigation began.\n",
        "\n",
        "Holden Thorp, the journal’s editor-in-chief, explained that Science opted to issue the expressions of concern, which serve as placeholders before an ultimate conclusion is reached, rather than immediately issue a correction or retraction. “The last thing we want to do is take action on this paper and then the investigation turns up something else,” he said.\n",
        "\n",
        "And the scientists may indeed have more to turn up. The spokesperson for the special committee evaded questions about whether the committee was aware of concerns not yet publicly raised (The Daily is aware that some such concerns exist) and wrote that the scientists were free to examine any issues they found appropriate.\n",
        "\n",
        "\n",
        "\n",
        "Some experts have voiced their concerns about the lack of transparency around the review process. Nancy Olivieri, a world-renowned scientific whistleblower, wrote in an email to The Daily that she believed the latest update from the committee was “all academic jargon for ‘we are still pretending to investigate.’”\n",
        "\n",
        "One associate director in Stanford’s administration, who requested anonymity due to fear of professional repercussions, wrote that “In speaking with numerous academics and alumni, nearly everyone is surprised that the Stanford president has not stepped down or at least stepped aside from his duties while the investigation is taking place. Many have pointed to the board who appear to be protecting the individual rather than the institution.”\n",
        "\n",
        "Still, some urge caution. An op-ed published in The Daily last month authored by several Stanford scientists warned against premature conclusions, following calls by other Stanford scientists for Tessier-Lavigne to step down. The scientists wrote that they felt an investigation was justified and that the community should wait to hear its findings, pointing out that Tessier-Lavigne has performed some exceptionally important science. “These accomplishments do not guarantee that every paper he has authored is free of errors,” wrote the authors, “but collectively they demonstrate a high level of scientific rigor and reproducibility.”\n",
        "\n",
        "\n",
        "\n",
        "The content of the op-ed was not supported by all members of the Stanford scientific community. One colleague of the authors and a School of Medicine professor, who requested anonymity to speak freely about coworkers, wrote that the piece contained “arrogance of scientific seniority.”\n",
        "\n",
        "The professor continued, “Should we be concluding from their statement that scientific seniority and stardom indemnify one from a standard of scrutiny, and an expectation of honesty and rigor, that apply to those farther down the ‘food chain’ of science? (…) I find that a sad and disturbing aspect of their statement, and one that is very hard to ignore.”\n",
        "\n",
        "\"\"\"\n",
        "theo3 = \"\"\"Stanford’s 2021-2022 Title IX report, released publicly on Dec. 1, lacks detail that had been included in previous years’ reports about the outcomes of informal resolutions to sexual misconduct allegations. The University offered inconsistent explanations in statements.\n",
        "\n",
        "Title IX reports in previous years included specifics about University sanctions. In the 2019-2020 report, the conclusion of an informal resolution of an investigation of “sexual harassment in a student setting” by a male graduate student was “no contact with complainant; loss of privileges; sexual citizenship training; alcohol counseling.” In the 2020-2021 report, a male undergraduate involved in an informal resolution for the same conduct was subject to “deletion of all social media accounts; training/remediation.”\n",
        "\n",
        "In the 2021-2022 report, the outcomes of informal resolutions were not reported. The report did not explain or note this change.\n",
        "\n",
        "Informal resolutions involve parties engaging in mediation with the help of an outside party to reach a mutual agreement. Formal resolution procedure involves an external group investigating the allegations to determine whether to proceed to a hearing to review evidence.\n",
        "\n",
        "University spokesperson Dee Mostofi wrote in a statement that “this year, due to the very low number of cases handled through the informal resolution process and the increased likelihood of being able to identify specific individuals who did utilize the informal process this year, we did not release more detailed outcome information about the informal resolution cases out of respect for the privacy of the individuals involved.”\n",
        "\n",
        "\n",
        "\n",
        "Previous Title IX reports, though, show that the University has consistently reported outcomes of informal resolutions despite a small number of cases. In the 2020-2021 report there was one informal resolution across the report’s categories — and the outcome was reported. The 2021-2022 report included three informal resolutions without releasing their specific outcomes and an overall 118% increase of sexual violence reports from the previous year.\n",
        "\n",
        "Mostofi wrote that “this reporting does not reflect a policy change,” in response to questions about why the data was reported in previous years and not in this year.\n",
        "\n",
        "Stanford Law School professor Michele Dauber contested the University’s position. “It’s hard to square their statement that they haven’t changed policy with the fact that last year, when there was only one case, they published these data and this year when there were three cases they did not.”\n",
        "\n",
        "“It is not inappropriate for the University to observe some rule about small numbers and the risk of disclosure. However, the University should be transparent about that rule, including specifying what qualifies as a small number,” Dauber wrote.\n",
        "\n",
        "\n",
        "\n",
        "According to email exchanges obtained by The Daily, Dauber raised concerns over the less detailed report on Dec. 12 in an email to University Provost Persis Drell, Title IX Director Stephen Chen, Vice Provost for Institutional Equity, Access & Community Patrick Dunkley and others. Dauber wrote that “the reports have become less detailed this year…regarding outcomes and sanctions.”\n",
        "\n",
        "“I assume that this is just an oversight,” she wrote. “However, at this point, the data is simply missing and I would like to have it included.”\n",
        "\n",
        "Chen wrote in a Dec. 16 response that the “absence in some categories is consistent with how we reported similar patterns in prior years.”\n",
        "\n",
        "Undergraduate Senate co-chair Amira Dehmani ’24 disagreed that the reporting was consistent. “It definitely appears like they are sharing less information than before, which is not good,” Dehmani wrote.\n",
        "\n",
        "“Having fewer details makes it difficult for advocates and survivors to have the data necessary to sway the administration to make changes to support them,” Dehmani wrote. “It creates a paradox: we need data to be convinced about needed reform, but we won’t collect or share the data necessary to do that.”\n",
        "\n",
        "Mostofi wrote that “for the last six years, Stanford has been producing and sharing an annual report on the university’s efforts to address sexual harassment in our community with as much transparency as possible. Our aim is two-fold, for the community to understand the seriousness with which Stanford engages in issues of sexual harassment and our comprehensive approach to this problem.”\n",
        "\n",
        "\n",
        "\n",
        "Mostofi did not respond to questions about whether the data on outcomes of informal resolutions would be provided.\"\"\"\n",
        "\n",
        "theo4 = \"\"\"Though the article drew some criticism for its portrayal of Greek life as an innocent actor in the University’s alleged “war on fun,” the article also galvanized outrage over the steady decline of spontaneity. The piece was followed by other student articles in campus publications, including an op-ed earlier this month in The Stanford Review titled “Take Stanford Back: A Call to Revitalize Fun.”\n",
        "\n",
        "Arman Sharma ’24, author of the Review op-ed, said he wrote his piece in response to “dead silent” bike rides home on weekend nights. He said his friends in the Kappa Alpha (KA) fraternity told him “about the bureaucratic nightmare that they had to go through to get [the annual KAbo party] approved. And I was like, this doesn’t really make sense for a college campus. [One] like this, in particular, that has been known as America’s dream school for a very long time.”\n",
        "\n",
        "Complaints have spread beyond the initial concentration of those in or around Greek life circles — according to several students, a marked decline in social events of all types has swept Stanford as a direct result of actions taken by the administration.\n",
        "\n",
        "One Voluntary Student Organization leader, who requested anonymity because much of the group’s funding is supplied by the office they criticized, said, “You feel like you’re being audited by the IRS to get boba for people.”\n",
        "\n",
        "\n",
        "\n",
        "The student said the University is “excessively bureaucratic” and those trying to host events are “burnt out” from trying to navigate a ruleset that “has expanded and [adds] challenges that don’t need to be there.”\n",
        "\n",
        "Harris, who also responded on behalf of the Office of Student Engagement, wrote that the University has worked to expand social opportunities. “Student Affairs, student leaders, and campus partners have been working earnestly to provide many and vibrant social options for undergraduates this fall,” Harris wrote.\n",
        "\n",
        "“We now have funds specifically earmarked to support all Row houses, Greek and non-Greek, in hosting all-neighborhood or all-campus events,” Harris added.\n",
        "\n",
        "But some students alleged that programs like Cardinal Nights have not been funded and advertised enough to serve as real alternatives, especially since they have been actively hampered by changing school policies. (Cardinal Nights disappeared in September 2021 after a departmental reshuffling, though it has returned under new management.)\n",
        "\n",
        "And other efforts have proven ineffective. In April 2022, the University created a Student Social Life Accelerator Task Force, claiming “Stanford has long been known for its fun, irreverent, whimsical social scene. Yet it just hasn’t felt as vibrant as it could be.” According to students, the task force has failed to make progress. (The co-chairs of the task force did not respond to a request for comment.)\n",
        "\n",
        "\n",
        "\n",
        "Other policies have also served as cause for concern among some in the student body, including changes to the alcohol policy in May 2021. Multiple members of residential staff said that the changes reversed a previous “open door” understanding, where students who were underage could drink in their rooms under supervision from their residential staff.\n",
        "\n",
        "The Daily spoke with three employees of the Office of Substance Use Programs Education & Resources (SUPER) who requested anonymity after supervisors warned staff against communicating with reporters, according to emails provided to The Daily.\n",
        "\n",
        "One employee characterized the new alcohol policy as “hopelessly out of touch with reality” and “absolute s**t.” Students interviewed agreed, broadly characterizing it as an unhelpful, adversarial system.\n",
        "\n",
        "One Resident Assistant (RA), who requested anonymity because of an Office of Residential Education policy preventing RAs from speaking with reporters, explained that “a lot of [Resident Fellows] in the neighborhood have said, ‘This is the University’s policy on alcohol and drugs, let’s make our own policy.’ [They] are telling us, don’t worry about half of this stuff.” When asked about RFs disavowing University alcohol policy, Harris declined to comment.\"\"\"\n",
        "theo5 = \"\"\"There are many rabbit holes on the internet not worth going down. But a comment on an online science forum called PubPeer convinced me something might be at the bottom of this one. “This highly cited Science paper is riddled with problematic blot images,” it said. That anonymous 2015 observation helped spark a chain of events that led Stanford’s president, Marc Tessier-Lavigne, to announce his resignation this month.\n",
        "\n",
        "Dr. Tessier-Lavigne made the announcement after a university investigation found that as a neuroscientist and biotechnology executive, he had fostered an environment that led to “unusual frequency of manipulation of research data and/or substandard scientific practices” across labs at multiple institutions. Stanford opened the investigation in response to reporting I published last autumn in The Stanford Daily, taking a closer look at scientific papers he published from 1999 to 2012.\n",
        "\n",
        "The review focused on five major papers for which he was listed as a principal author, finding evidence of manipulation of research data in four of them and a lack of scientific rigor in the fifth, a famous study that he said would “turn our current understanding of Alzheimer’s on its head.” The investigation’s conclusions did not line up with my reporting on some key points, which may, in part, reflect the fact that several people with knowledge of the case would not participate in the university’s investigation because it declined to guarantee them anonymity. It did confirm issues in every one of the papers I reported on. (My team of editors, advisers and lawyers at The Stanford Daily stand by our work.)\n",
        "\n",
        "In retrospect, much of the data manipulation is obvious. Although the report concluded that Dr. Tessier-Lavigne was unaware at the time of the manipulation that occurred in his labs, in papers on which he served as a principal author, images had been improperly copied and pasted or spliced; results had been duplicated and passed off as separate experiments; and in some instances — in which the report found an intention to hide the manipulation — panels had been stretched, flipped and doctored in ways that altered the published experimental data. All of this happened before he became Stanford’s president. Why, then, didn’t it come out sooner?\"\"\"\n",
        "author.append(theo1)\n",
        "author.append(theo2)\n",
        "author.append(theo3)\n",
        "author.append(theo4)\n",
        "author.append(theo5)\n",
        "print(author)"
      ]
    },
    {
      "cell_type": "code",
      "execution_count": null,
      "metadata": {
        "id": "90KjmypKRNLv"
      },
      "outputs": [],
      "source": [
        "love_essay = \"\"\"\n",
        "Love: The Eternal Emotion\n",
        "\n",
        "Love, a ubiquitous emotion, transcends boundaries, defies definition, and weaves the very fabric of human existence. It is an enigmatic force that binds hearts, enriches souls, and navigates the intricate corridors of human relationships.\n",
        "\n",
        "At its core, love is a profound and multifaceted emotion, encompassing a spectrum of sentiments and experiences. It manifests in various forms – from the fervent affection between romantic partners to the unconditional care of a parent for a child, from the camaraderie among friends to the compassion shown to strangers. Love is a kaleidoscope of emotions, each hue painting a unique and poignant picture.\n",
        "\n",
        "The roots of love delve deep into our evolutionary past, intertwining with our primal instincts for connection and belonging. It is an emotion that transcends cultural, societal, and geographical boundaries, a universal language spoken and understood by all. Love thrives in the tender moments of intimacy, the silent gestures of empathy, and the unwavering support during trials.\n",
        "\n",
        "Romantic love, often celebrated in literature, art, and music, dances between passion and tenderness. It ignites the fire of desire, entwines souls in a bond of intimacy, and fosters companionship that weathers the storms of life. Yet, romantic love is but one facet of the multifaceted gem of affection.\n",
        "\n",
        "The love between parents and children is an unwavering bond, a selfless devotion that knows no bounds. It encompasses nurturing care, fierce protection, and an inexhaustible well of support. This love molds, shapes, and lays the foundation for future generations.\n",
        "\n",
        "Friendship, another form of love, blossoms in shared experiences, mutual respect, and unwavering trust. It is a tapestry woven with laughter, understanding, and shared moments, providing solace and companionship through life's ebb and flow.\n",
        "\n",
        "Beyond personal relationships, love extends to compassion for humanity, inspiring acts of altruism, kindness, and empathy. It bridges differences, cultivates understanding, and fosters unity in a fractured world.\n",
        "\n",
        "Love, however, is not immune to the pangs of adversity. It bears witness to heartbreaks, separation, and the frailty of human connections. Yet, in the face of adversity, love often emerges resilient, nurturing hope, and offering solace.\n",
        "\n",
        "In conclusion, love is the heartbeat of the human experience. It is the force that propels us to connect, to care, and to empathize. It defies definition yet paints the very essence of our existence with its myriad colors. Love, in its infinite forms, remains the eternal emotion that binds humanity together.\n",
        "\n",
        "\"\"\"\n",
        "world_essay = \"\"\"\n",
        "\n",
        "The world we inhabit is an intricately woven tapestry of diversity, a confluence of cultures, ecosystems, and ideas. From the lush rainforests teeming with vibrant life to the bustling cities pulsating with human activity, our planet is an amalgamation of myriad elements.\n",
        "\n",
        "At the core of our world lies its breathtaking natural beauty. Majestic mountains stand tall, piercing the sky, while rivers carve their path through valleys, nourishing the lands they touch. The oceans, vast and deep, harbor an abundance of life, each ripple a testament to the interconnectedness of our ecosystems.\n",
        "\n",
        "Yet, the world is not solely defined by its natural wonders. It is a mosaic of cultures, traditions, and languages. From the ancient civilizations that once flourished to the modern societies shaped by technology and innovation, the world is a stage where diverse narratives intermingle.\n",
        "\n",
        "The human experience is interwoven with tales of triumph and tribulation. It is a narrative of progress and setbacks, of unity and division. Across continents, people strive for a better tomorrow, overcoming obstacles and embracing the richness of diversity.\n",
        "\n",
        "However, the world grapples with pressing challenges. Environmental degradation threatens delicate ecosystems, demanding urgent collective action. Societies navigate complex socio-political landscapes, striving for equity and justice. Global interconnectedness, while fostering collaboration, also reveals disparities and vulnerabilities.\n",
        "\n",
        "In our quest for progress, technological advancements have reshaped the world. Innovation propels us forward, reshaping industries and connecting distant corners of the globe. Yet, with great strides come ethical dilemmas and societal transformations, urging reflection and responsible stewardship.\n",
        "\n",
        "Amidst the tapestry of complexities, the world offers hope. It's in the resilient spirit of communities coming together in times of adversity. It's in the tireless efforts of individuals striving to make a positive difference. It's in the collective aspiration for a world that embraces harmony, compassion, and sustainability.\n",
        "\n",
        "The world, with all its intricacies and contradictions, invites us to contemplate our role in its narrative. Each action, every decision, contributes to the unfolding story of our shared existence on this remarkable planet.\n",
        "\n",
        "As we navigate the vast expanse of the world, may we cherish its diversity, cultivate empathy, and embark on a journey towards a future where our collective aspirations harmonize with the intricate rhythms of the world.\"\"\"\n",
        "stanford_essay = '''\"Stanford University stands as a beacon of academic excellence, innovation, and intellectual pursuit in the heart of Silicon Valley, California. Founded in 1885 by railroad magnate Leland Stanford and his wife, Jane Stanford, as a memorial to their son, the university has evolved into a globally renowned institution that fosters groundbreaking research, cultivates diverse perspectives, and nurtures some of the world's brightest minds.\n",
        "\n",
        "The university's origins are deeply rooted in its founding principles of innovation and progress. Initially established as a coeducational and non-denominational institution, Stanford University was designed to impart a holistic education that would combine technical skills with a strong emphasis on humanities and liberal arts. This founding vision set the stage for Stanford's commitment to interdisciplinary studies, an approach that remains integral to its academic philosophy.\n",
        "\n",
        "Stanford's academic prowess spans across a wide array of disciplines, from engineering and technology to the arts, humanities, and social sciences. Renowned for its top-ranked programs in computer science, engineering, business, and law, Stanford consistently ranks among the world's leading universities.\n",
        "\n",
        "One of Stanford's hallmarks is its dedication to fostering innovation and research. The university serves as a crucible for cutting-edge discoveries and inventions. Its pioneering role in technology and entrepreneurship has made it a cornerstone of Silicon Valley's entrepreneurial ecosystem. Stanford's proximity to industry giants has facilitated collaborations, leading to breakthroughs in fields such as artificial intelligence, biotechnology, and sustainable energy.\n",
        "\n",
        "Beyond academic excellence, Stanford prides itself on its commitment to diversity and inclusivity. The university boasts a vibrant and diverse community, comprising students, faculty, and staff from various cultural, socioeconomic, and geographical backgrounds. This diversity enriches the academic environment, fostering a culture of dialogue, mutual understanding, and global citizenship.\n",
        "\n",
        "Stanford's student-centric approach places immense value on providing a rich and multifaceted educational experience. Students benefit from small class sizes, which foster close interactions with esteemed faculty members. The university offers a plethora of opportunities for undergraduate and graduate students, including research projects, internships, global study programs, and community engagement initiatives. Stanford's emphasis on experiential learning equips students with practical skills and a deep understanding of their chosen fields.\n",
        "\n",
        "The vibrant campus life at Stanford is characterized by a multitude of extracurricular activities and student organizations. Whether it's participating in sports, cultural clubs, artistic endeavors, or community service initiatives, students find ample opportunities to pursue their passions beyond the classroom. The university's state-of-the-art facilities, including libraries, laboratories, and recreational centers, complement the diverse interests of its student body.\n",
        "\n",
        "Stanford's impact extends far beyond its campus borders. Alumni, faculty, and researchers have played pivotal roles in shaping society through their contributions to various fields. From Nobel laureates and Pulitzer Prize winners to influential leaders in government, business, and academia, Stanford affiliates continue to make substantial contributions that positively impact communities worldwide.\n",
        "\n",
        "Despite its achievements, Stanford faces its share of challenges. Issues such as accessibility, affordability, and maintaining a balance between technological advancement and ethical considerations pose ongoing dilemmas. However, the university remains committed to addressing these challenges through innovative approaches and collaborative efforts.\n",
        "\n",
        "Looking ahead, Stanford University is poised to continue leading the charge in academia, research, and societal progress. By staying true to its founding principles while adapting to the evolving landscape of education and technology, Stanford will undoubtedly shape the future and continue to inspire generations of scholars, innovators, and global citizens.\n",
        "\n",
        "In conclusion, Stanford University stands as a testament to the transformative power of education and innovation. Its commitment to academic excellence, diversity, and societal impact cements its position as a premier institution that illuminates the path to a brighter future.\"'''\n",
        "critical_essay = '''\n",
        "Critical thinking is an essential skill in problem-solving across various facets of life. It involves the ability to analyze, evaluate, and interpret information in a rational and logical manner. Whether facing personal dilemmas or complex global issues, critical thinking plays a pivotal role in finding effective solutions.\n",
        "\n",
        "In academia, critical thinking fosters intellectual independence and encourages students to question assumptions. It enables learners to comprehend complex subjects by scrutinizing evidence and reasoning. Moreover, it cultivates the capacity to articulate informed opinions supported by credible evidence.\n",
        "\n",
        "In professional settings, individuals adept at critical thinking are assets to organizations. They possess the capability to identify problems, assess alternative approaches, and make sound decisions based on thorough analysis. Employees who think critically are better equipped to innovate, adapt to change, and resolve challenges in diverse work environments.\n",
        "\n",
        "Beyond the workplace and academia, critical thinking is invaluable in daily life. It enables individuals to navigate information overload in the digital age, discerning credible sources from misinformation. It empowers people to make informed choices about health, finance, and societal issues.\n",
        "\n",
        "Developing critical thinking skills requires practice and exposure to diverse perspectives. Encouraging open dialogue, encouraging curiosity, and fostering an environment that values independent thought are crucial in nurturing this skill. By promoting critical thinking, society can progress, adapt to change, and address complex problems effectively.\n",
        "'''\n",
        "essay_about_curiosity = \"\"\"\n",
        "The Essence of Curiosity in Human Development\n",
        "\n",
        "Curiosity is an inherent trait that propels human beings towards discovery, learning, and innovation. It is the insatiable thirst for knowledge, the burning desire to explore the unknown, and the engine that drives progress. From the earliest stages of life, curiosity acts as a catalyst for development, shaping our understanding of the world and fostering intellectual growth.\n",
        "\n",
        "One of the fundamental aspects of curiosity is its role in learning. It is through curiosity that children begin their journey of exploration, constantly asking questions and seeking answers. This innate curiosity leads them to touch, observe, and experiment with their surroundings, laying the foundation for cognitive development. As they grow, this curiosity evolves, driving individuals to delve deeper into subjects of interest, sparking creativity, and fueling a thirst for knowledge that extends into adulthood.\n",
        "\n",
        "Moreover, curiosity acts as a driving force behind innovation and scientific advancements. Throughout history, some of the most groundbreaking discoveries and inventions have stemmed from individuals driven by an insatiable curiosity. Thinkers like Galileo, Newton, and Einstein revolutionized our understanding of the universe by relentlessly questioning the status quo and seeking answers to the unknown.\n",
        "\n",
        "Not only does curiosity foster personal growth, but it also enhances problem-solving skills and critical thinking abilities. When individuals are curious, they are more inclined to explore multiple perspectives, challenge assumptions, and think outside the box. This leads to innovative solutions and breakthroughs that can positively impact society as a whole.\n",
        "\n",
        "Furthermore, in today's rapidly changing world, curiosity is a key ingredient for adaptability. It encourages individuals to embrace change, learn new skills, and adapt to evolving circumstances. In an era where technology, industries, and societal norms are constantly evolving, the ability to stay curious becomes a valuable asset, enabling individuals to navigate uncertainties and thrive in diverse environments.\n",
        "\n",
        "However, despite its numerous benefits, curiosity can sometimes be stifled. Educational systems that prioritize memorization over exploration, fear of failure, or societal pressures may suppress the natural curiosity that exists within individuals. Encouraging and nurturing curiosity, therefore, becomes pivotal in promoting holistic development and lifelong learning.\n",
        "\n",
        "In conclusion, curiosity stands as an essential element in human development. It fuels exploration, stimulates intellectual growth, drives innovation, and enhances adaptability. Encouraging curiosity from a young age and fostering an environment that values questioning, exploration, and lifelong learning can pave the way for a more innovative, adaptable, and intellectually vibrant society.\n",
        "\"\"\"\n",
        "essays = [love_essay, world_essay, stanford_essay, critical_essay, essay_about_curiosity]"
      ]
    },
    {
      "cell_type": "code",
      "execution_count": null,
      "metadata": {
        "id": "Po3MCUP2aTIs"
      },
      "outputs": [],
      "source": [
        "previous_essay = \"\"\"Crypto magnate Sam Bankman-Fried was scheduled to speak to a Stanford class this past winter, The Daily has learned. The topic of the course? Tech ethics. Bankman-Fried wouldn’t have the opportunity to give that lecture, though — instead, before the winter quarter even began, he was placed under house arrest just a stone’s throw away from the lecture hall, confined to a home on campus owned by his parents, Stanford Law School (SLS) professors Joseph Bankman and Barbara Fried.\n",
        "\n",
        "His stay at Stanford came to an end Friday, when Bankman-Fried’s bail was revoked by Judge Lewis A. Kaplan over alleged attempts at witness interference. Instead of his parents’ $5 million house, Bankman-Fried is now confined to the Metropolitan Detention Center in Brooklyn. But the Stanford community’s ties to his case, already well-reported, are even deeper than previously thought. New court filings allege that Bankman and Fried were themselves improperly enriched, and exclusive Daily reporting shows that Bankman continues to serve in official capacities at the school.\n",
        "\n",
        "Bankman-Fried’s breach of bail conditions may cause his parents, as well as Stanford professor Andreas Paepcke and former SLS dean Larry Kramer who helped guarantee Bankman-Fried’s $250 million bail, to forfeit the collateral they put forward, further increasing the cost of an already expensive legal battle. According to Kaplan, Bankman-Fried “has gone up to the line over and over again,” speaking to media and violating repeated instructions on the limits of his house arrest.\n",
        "\n",
        "\n",
        "\n",
        "Bankman-Fried, once considered a wunderkind of Silicon Valley, made billions of dollars as the founder of crypto exchange FTX and trading firm Alameda Research. It all came crashing down after reporters revealed holes in FTX’s balance sheets and prosecutors quickly moved to extradite the 31-year-old from his penthouse in the Bahamas, alleging a scheme to defraud investors. He was arrested soon after at the $30 million apartment — just one of a number of properties his company had bought on the island, including a $16 million vacation home for his parents. A spokesperson for Bankman and Fried told Reuters that the two were attempting to return the deed to FTX.\n",
        "\n",
        "Bankman and Fried, popular SLS professors who have taught at the school for decades, have been publicly supporting their son’s efforts to fight charges of conspiracy, fraud and campaign finance violations. Their involvement in the case goes beyond supportive parents.\n",
        "\n",
        "A recent court filing revealed that an unusual $10 million payment was made by Bankman-Fried to his father in January 2022. “In an email exchange, Bankman-Fried and his father discussed structuring the $10 million gift as a loan from Alameda to Bankman-Fried,” wrote John J. Ray III, a lawyer who has been stewarding the bankruptcy proceedings of FTX since his appointment as CEO in the wake of Bankman-Fried’s resignation. Ray had previously done the same for Enron after its collapse. The filing said that Bankman-Fried had “caused” $10 million to be placed in an FTX account in his name and then immediately transferred the money to his father. Bankman, who has taught on corporations and tax law, then transferred $6.775 million into his personal bank accounts and kept the rest in his FTX account.\n",
        "\n",
        "\n",
        "\n",
        "\n",
        "\n",
        "But while Bankman-Fried described the money as a loan, debtors of FTX and Alameda Research “have been unable … to identify any promissory note, loan agreement, or other indication that the funds were not simply taken from Alameda by Bankman-Fried to enrich his family.” Forbes and other outlets reported that money from the unexplained transfer to Bankman is being used to fund Bankman-Fried’s legal defense. A spokesperson for Bankman and Fried did not respond to a request for comment.\n",
        "\n",
        "Stanford has publicly said very little about the case or Bankman and Fried’s relationship to it, though court filings earlier this year revealed Stanford to be among the list of creditors FTX owed money. Stanford spokespeople did not respond to questions for this article, including one about the extent of Stanford’s financial relationship to FTX. In December, as their son’s multi-billion dollar empire began to unravel, Bankman and Fried shared that they would not be teaching the following quarter. At the time, Fried told The Daily her decision to retire was “long-planned” and that she “hope[d] to” return to teaching, while Bankman declined to comment.\n",
        "\n",
        "\n",
        "\n",
        "Despite the ongoing legal battle and intense public scrutiny placed on both Bankman-Fried and his parents, The Daily has obtained official communications showing that Bankman has continued to play an active role at the school. Bankman is slated to interview a job candidate in late September, mere weeks before his son’s trial begins, according to an email from the SLS Appointments Committee obtained by The Daily.\n",
        "\n",
        "Stephanie Ashe, a spokesperson for SLS, declined to answer questions about Bankman’s relationship with the school, writing that the most up to date information could be found on the SLS website. Bankman’s profile continues to list him as the Ralph M. Parsons Professor of Law and Business. Sent further questions, she wrote that “as a matter of policy, Stanford University and the law school do not take positions on the outside activities of our individual faculty members, nor do we discuss personnel issues or other confidential matters.”\"\"\""
      ]
    },
    {
      "cell_type": "code",
      "execution_count": null,
      "metadata": {
        "id": "u4Gj-IGBset_"
      },
      "outputs": [],
      "source": [
        "previous_essay_2 = \"\"\"In 2009, Marc Tessier-Lavigne, then a top executive at the biotechnology company Genentech, was the primary author of a scientific paper published in the prestigious journal Nature that claimed to have found the potential cause for brain degeneration in Alzheimer’s patients. “Because of this research,” read Genentech’s annual letter to shareholders, “we are working to develop both antibodies and small molecules that may attack Alzheimer’s from a novel entry point and help the millions of people who currently suffer from this devastating disease.”\n",
        "\n",
        "But after several unsuccessful attempts to reproduce the research, the paper became the subject of an internal review by Genentech’s Research Review Committee (RRC), according to four high-level Genentech employees at the time; two were senior scientists and two were scientists who also served as executives. Three spoke on the condition of anonymity because of the sensitivity of the allegations and non-disclosure agreements. The scientists, one of whom was an executive who sat on the review committee and all of whom were informed of the review’s findings at the time due to their stature at the company, said that the inquiry discovered falsification of data in the research, and that Tessier-Lavigne kept the finding from becoming public.\n",
        "\n",
        "Tessier-Lavigne denies both allegations. Genentech said in a statement that “as part of our diligence related to these allegations, we reviewed the records from that November 2011 RRC meeting and saw no allegations of fraud or wrongdoing.” The company acknowledged that “given that these events happened many years ago … our current records may not be complete.”\n",
        "\n",
        "\n",
        "\n",
        "After the review, which began in 2011, Genentech canceled research based on the paper’s findings. Till Maurer, a senior scientist at the company from 2009-2018 who said he was assigned to develop drugs based on the 2009 paper, told The Daily that his superior informed him that, in Maurer’s words, “the project is being canceled and it’s because they found falsified data.”\n",
        "\n",
        "Tessier-Lavigne, who became Stanford’s president in 2016, has been under investigation by the Stanford Board of Trustees since late November, after The Daily revealed concerns that several other papers he had co-authored contained altered imagery. But these latest allegations, about a different paper, are more serious because they involve what was once considered a promising treatment target for Alzheimer’s disease — and because people involved in the review allege that Tessier-Lavigne tried to keep its findings hidden.\n",
        "\n",
        "Tessier-Lavigne declined multiple requests for interviews over email as well as in person. Stephen Neal, chairman emeritus of Cooley, a prominent law firm representing the president, responded in writing to questions sent to Tessier-Lavigne.\n",
        "\n",
        "\n",
        "\n",
        "“Dr. Tessier-Lavigne is not aware of any internal investigation of the Paper,” wrote Neal. “Given that there was no investigation of the Paper, Dr. Tessier-Lavigne categorically disputes any allegation by unnamed scientists that he ‘covered up’ any findings regarding such investigation or was opposed to allowing such (non-existent) findings to become public.”\n",
        "\n",
        "Genentech, in a written statement to The Daily, confirmed that an internal review took place in 2011, a fact that was not previously public. The company characterized the review as “routine.” When asked whether this was accurate, the scientist whom The Daily confirmed belonged to the research review committee said, “no no no no no no.”\n",
        "\n",
        "“There have not been any formal investigations, allegations, claims or complaints regarding scientific fraud or misrepresentation involving the Nature 2009 paper,” wrote Susan Willson, a Genentech spokesperson. “The project received a regular review by Genentech’s Research Review Committee (RRC), as is routinely done for Genentech’s drug discovery projects.”\n",
        "\n",
        "She wrote that “neither the RRC meeting nor the decision to conduct follow-up experiments was due to any concern about fraud in the Nature 2009 paper.” Willson would not answer multiple questions about whether any issues were ever discovered in the paper.\n",
        "\n",
        "The research review committee authorized subsequent experiments to further analyze the paper’s conclusions, Willson wrote, and “based on the results of the genetic experiments at Genentech, the RRC terminated the Genentech research project in 2012.” She would not answer repeated questions about whether there were ever attempts to replicate the experiments in the 2009 paper and if the research was found to be reproducible.\n",
        "\n",
        "\n",
        "\n",
        "Matthew Schrag, an Alzheimer’s expert with no relation to Genentech or Tessier-Lavigne who reviewed the scientific literature surrounding the paper at the request of The Daily, concluded that parts of the paper implicating a specific pathway in Alzheimer’s “were found in later studies to be inaccurate.” Schrag, who did not have knowledge of the internal review and based his analysis on published information, made clear that “this is not, by itself, evidence of misconduct.”\n",
        "\n",
        "According to the four senior scientists, including the scientist who served as a member of the research review committee, the committee found that the fundamental science underpinning the 2009 study’s conclusion was fabricated. In the face of a finding of fabrication, retraction of the paper would have been the expected outcome, according to Nature’s policies. The Committee of Publication Ethics, a nonprofit that supports journal editors around the world, recommends retraction in the case of “clear evidence that the findings are unreliable, either as a result of major error (eg, miscalculation or experimental error), or as a result of fabrication (eg, of data) or falsification (eg, image manipulation).” But Tessier-Lavigne “was unwilling to clean up the mess,” said the scientist and former Genentech executive who participated in a series of 2011 meetings about the paper.\n",
        "\n",
        "\n",
        "\n",
        "\n",
        "\n",
        "Neal, Tessier-Lavigne’s lawyer, asserted the conclusions of the 2009 paper that did not hold up, revolving around caspase 3 and caspase 6, beta secretase, N-APP binding to DR6 and DR6 playing a role in Alzheimer’s disease, were the result of “the normal march of science.” He continued, “no one involved in the experiments described in the Paper forged gels, falsified assays or fabricated experiments.” He did not answer a question about whether any concerns had been raised over the paper or if he believed there were any “issues with the paper.”\"\"\""
      ]
    },
    {
      "cell_type": "code",
      "execution_count": null,
      "metadata": {
        "id": "tQSOk0U4lRsR"
      },
      "outputs": [],
      "source": [
        "text_data = '''William Curry, the man who posed for almost a whole year as a student, living in various residences under false pretenses, returned to campus last week. He spent a night in Murray House, where he was reportedly talking to residents about his ex-girlfriend, a Stanford student whom he has allegedly harassed and sent death threats since they broke up last year. The University had pledged to modify its policies last fall to prevent future intrusions.\n",
        "\n",
        "The Daily has confirmed Curry’s presence on campus through the accounts of several corroborating witnesses, who possessed significant non-public information, GPS data from a social media app showing that Curry was in the area at the time and through Curry himself, who admitted to being on campus when messaged by a Daily reporter and independently provided an account that lined up with those of several witnesses.\n",
        "\n",
        "Luisa Rapport, a Stanford spokesperson, wrote that “our preliminary findings strongly indicate recent sightings of Curry were unsubstantiated.” When presented with significant evidence to the contrary, Rapport wrote that “VPSA [the Vice Provost for Student Affairs] and DPS [Department of Public Safety] have yet to receive reports from anyone who has recently seen William Curry on campus. We strongly encourage anyone with information about suspicious activity to let their resident fellow or resident director know immediately or call 911.”\n",
        "\n",
        "But The Daily has obtained correspondence showing that witnesses informed Murray residential staff and then resident directors of Curry’s presence the same morning they encountered him. Those witnesses say they have not been reached out to for further details.\n",
        "\n",
        "The University has historically been reticent to address Curry’s visits to campus. After The Daily revealed Curry’s repeated intrusions last fall, the University did not respond to multiple requests for comment for nearly a week. As subsequent reporting revealed, the University had been aware of Curry’s presence for almost a year and repeatedly failed to notify students.\n",
        "\n",
        "The woman whom Curry harassed says she was told the school “didn’t want to alarm people too much” after she asked a deputy why a campus alert was not issued. The Stanford Department of Public Safety (SUPDS) has declined to comment on this allegation.\n",
        "\n",
        "Tom Ramsay ’25 and Emanuel Adamiak ’25 told The Daily they were going to play a game of pool shortly after midnight on Thursday morning when they found the door to the Murray lounge locked. “That never happens,” said Ramsay. The door can be locked, but only from the inside and the two said they were confused about who would be occupying the typically vacant lounge so late at night. The man they said opened the door was Curry, who had been watching poker videos on the dorm television.\n",
        "\n",
        "The two said Curry gave his name as David. Curry explained, in subsequent messages with a Daily reporter, that his middle name is David and he used it rather than his full name, which had become well known on campus due to previous Daily reporting.\n",
        "\n",
        "According to the two students, Curry struck up a conversation with them while they were discussing the TV show “Suits,” in which one character pretends to have been a Harvard student. The two said that Curry told them his personal philosophy was to “deny deny deny,” and later admitted he wasn’t from the dorm but was “just doing [his] due diligence.” It was this comment that made the two suspicious — and, after looking up photos of Curry online, Ramsay notified his residential assistant that he believed Curry had been in the dorm.\n",
        "\n",
        "Curry had been wearing a Stanford in Government hat and sporting a beard, making it harder for the two to identify him. “He seemed like a normal college kid,” said Adamiak.\n",
        "\n",
        "Curry is a 20-year-old from Birmingham, Ala. who has been lying to friends, coaches and his parents that he was recruited to run for Stanford track and field for the last three years, according to several people who knew Curry in high school as well as his own account. He was first identified on campus in December, 2021, when a deputy removed him from a Roble dorm room whose occupant was on winter break.\n",
        "\n",
        "Curry returned to campus almost immediately, taking up residence in Murray in January 2022. (According to extensive correspondence obtained by The Daily, Curry has spent time in Crothers, Yost, EAST, Murray and Roble).\n",
        "\n",
        "He also began a relationship with a woman on campus, whose name The Daily is withholding to prevent further harassment. The Daily has confirmed their relationship through extensive photo and text message records.\n",
        "\n",
        "The two dated for several months, with the woman under the impression that Curry was a transfer student. Then, after they broke up, Curry began to harass her, she said. He remained logged into her iCloud account and used this to surveil her and discover her new romantic interests, whom he contacted repeatedly to call the woman a “slut” and various other derogatory terms.\n",
        "\n",
        "The woman provided several text messages where Curry identified himself by name, including a chain where he seemed to admit to remaining logged into her devices. She also told The Daily that Curry had continued to physically stalk her on campus, even after he had been removed multiple times.\n",
        "\n",
        "One night, she was with a man, and a stream of No Caller ID calls began to flood her phone, followed by messages where the sender told her to “put whatever guy your [sic] with on the phone or… I’ll Kill You.” The woman says she is confident these messages came from Curry. She also shared messages\n",
        "'''"
      ]
    },
    {
      "cell_type": "code",
      "execution_count": null,
      "metadata": {
        "colab": {
          "base_uri": "https://localhost:8080/"
        },
        "id": "Ds7yLUNFTUi5",
        "outputId": "ab3354f2-3462-4464-e57a-6b4a10118d80"
      },
      "outputs": [
        {
          "name": "stdout",
          "output_type": "stream",
          "text": [
            "Perplexity: 71.4391860961914\n"
          ]
        }
      ],
      "source": [
        "import torch\n",
        "from transformers import GPT2LMHeadModel, GPT2Tokenizer\n",
        "def perplexity(sentence):\n",
        "    model = GPT2LMHeadModel.from_pretrained('gpt2')\n",
        "    tokenizer = GPT2Tokenizer.from_pretrained('gpt2')\n",
        "    tokenized_sentence = tokenizer.encode(sentence, return_tensors='pt')\n",
        "    with torch.no_grad():\n",
        "        outputs = model(tokenized_sentence, labels=tokenized_sentence)\n",
        "        loss = outputs.loss\n",
        "\n",
        "    perplexity = torch.exp(loss)\n",
        "    perplexity_val = perplexity.item()\n",
        "\n",
        "    return perplexity_val\n",
        "\n",
        "perplexity_score = perplexity(\"This is a sample sentence.\")\n",
        "print(\"Perplexity:\", perplexity_score)"
      ]
    },
    {
      "cell_type": "code",
      "execution_count": null,
      "metadata": {
        "id": "WMwVQxDyQcFR"
      },
      "outputs": [],
      "source": [
        "def split_into_equal_chunks(text, num_chunks):\n",
        "    words = text.lower().replace('.', '').split()\n",
        "    total_words = len(words)\n",
        "    words_per_chunk = total_words // num_chunks\n",
        "    text_chunks = [words[i * words_per_chunk: (i + 1) * words_per_chunk] for i in range(num_chunks)]\n",
        "\n",
        "    return text_chunks"
      ]
    },
    {
      "cell_type": "code",
      "execution_count": null,
      "metadata": {
        "id": "y86YFdU8Tx-0"
      },
      "outputs": [],
      "source": [
        "def split_into_sentences(text):\n",
        "    sentence_enders = re.compile(r'(?<!\\w\\.\\w.)(?<![A-Z][a-z]\\.)(?<=\\.|\\?|\\!)\\s')\n",
        "    sentences = sentence_enders.split(text)\n",
        "    return sentences\n",
        "\n",
        "def split_essay(text, num_parts):\n",
        "    text = text.replace('\\n', ' ')\n",
        "    text = re.sub(' +', ' ', text)\n",
        "    sentences = split_into_sentences(text)\n",
        "    sentences_per_part = len(sentences) // num_parts\n",
        "    essay_parts = []\n",
        "    start_idx = 0\n",
        "\n",
        "    for i in range(num_parts):\n",
        "        end_idx = min(start_idx + sentences_per_part, len(sentences))\n",
        "        part_sentences = sentences[start_idx:end_idx]\n",
        "        part_text = ' '.join(part_sentences)\n",
        "        start_idx = end_idx\n",
        "        essay_parts.append(part_text)\n",
        "    return essay_parts"
      ]
    },
    {
      "cell_type": "code",
      "execution_count": null,
      "metadata": {
        "id": "HNopoBntR6M7"
      },
      "outputs": [],
      "source": [
        "import re\n",
        "def calculate_prior_perplexity(output):\n",
        "  curr_chunks = []\n",
        "  p = []\n",
        "  output = []\n",
        "  for essay in essays:\n",
        "    curr_chunks = split_essay(essay, 5)\n",
        "    for chunk in curr_chunks:\n",
        "      p.append(perplexity(chunk))\n",
        "      output.append(1)\n",
        "  return p\n",
        "p = []\n",
        "output = []\n",
        "p = calculate_prior_perplexity(output)"
      ]
    },
    {
      "cell_type": "code",
      "execution_count": null,
      "metadata": {
        "colab": {
          "base_uri": "https://localhost:8080/"
        },
        "id": "t8C7HlwoXMLP",
        "outputId": "57a61888-7626-4b3c-9064-32c9815bf98d"
      },
      "outputs": [
        {
          "name": "stdout",
          "output_type": "stream",
          "text": [
            "    perplexity  y\n",
            "0    26.036728  1\n",
            "1    26.893930  1\n",
            "2    25.469036  1\n",
            "3    27.474503  1\n",
            "4    27.375599  1\n",
            "5    23.082991  1\n",
            "6    17.190613  1\n",
            "7    41.049923  1\n",
            "8    39.123367  1\n",
            "9    25.347391  1\n",
            "10   14.319300  1\n",
            "11   13.154305  1\n",
            "12   16.405098  1\n",
            "13   15.835847  1\n",
            "14   16.243612  1\n",
            "15   17.592215  1\n",
            "16   34.218227  1\n",
            "17   30.925180  1\n",
            "18   30.676794  1\n",
            "19   29.652060  1\n",
            "20   18.879938  1\n",
            "21   27.123888  1\n",
            "22   17.837698  1\n",
            "23   20.080519  1\n",
            "24   33.506229  1\n"
          ]
        }
      ],
      "source": [
        "import pandas as pd\n",
        "output = [1 for x in p]\n",
        "df = pd.DataFrame(p, columns=['perplexity'])\n",
        "df['y'] = output\n",
        "print(df)"
      ]
    },
    {
      "cell_type": "code",
      "execution_count": null,
      "metadata": {
        "colab": {
          "base_uri": "https://localhost:8080/"
        },
        "id": "6E4y43uxX8jy",
        "outputId": "c8f021af-f36e-45fb-cc19-ffe5cb3fcad1"
      },
      "outputs": [
        {
          "name": "stdout",
          "output_type": "stream",
          "text": [
            "Crypto magnate Sam Bankman-Fried was scheduled to speak to a Stanford class this past winter, The Daily has learned. The topic of the course? Tech ethics. Bankman-Fried wouldn’t have the opportunity to give that lecture, though — instead, before the winter quarter even began, he was placed under house arrest just a stone’s throw away from the lecture hall, confined to a home on campus owned by his parents, Stanford Law School (SLS) professors Joseph Bankman and Barbara Fried. His stay at Stanford came to an end Friday, when Bankman-Fried’s bail was revoked by Judge Lewis A. Kaplan over alleged attempts at witness interference. Instead of his parents’ $5 million house, Bankman-Fried is now confined to the Metropolitan Detention Center in Brooklyn. But the Stanford community’s ties to his case, already well-reported, are even deeper than previously thought. New court filings allege that Bankman and Fried were themselves improperly enriched, and exclusive Daily reporting shows that Bankman continues to serve in official capacities at the school. Bankman-Fried’s breach of bail conditions may cause his parents, as well as Stanford professor Andreas Paepcke and former SLS dean Larry Kramer who helped guarantee Bankman-Fried’s $250 million bail, to forfeit the collateral they put forward, further increasing the cost of an already expensive legal battle. According to Kaplan, Bankman-Fried “has gone up to the line over and over again,” speaking to media and violating repeated instructions on the limits of his house arrest. Bankman-Fried, once considered a wunderkind of Silicon Valley, made billions of dollars as the founder of crypto exchange FTX and trading firm Alameda Research. It all came crashing down after reporters revealed holes in FTX’s balance sheets and prosecutors quickly moved to extradite the 31-year-old from his penthouse in the Bahamas, alleging a scheme to defraud investors. He was arrested soon after at the $30 million apartment — just one of a number of properties his company had bought on the island, including a $16 million vacation home for his parents. A spokesperson for Bankman and Fried told Reuters that the two were attempting to return the deed to FTX. Bankman and Fried, popular SLS professors who have taught at the school for decades, have been publicly supporting their son’s efforts to fight charges of conspiracy, fraud and campaign finance violations. Their involvement in the case goes beyond supportive parents. A recent court filing revealed that an unusual $10 million payment was made by Bankman-Fried to his father in January 2022. “In an email exchange, Bankman-Fried and his father discussed structuring the $10 million gift as a loan from Alameda to Bankman-Fried,” wrote John J. Ray III, a lawyer who has been stewarding the bankruptcy proceedings of FTX since his appointment as CEO in the wake of Bankman-Fried’s resignation. Ray had previously done the same for Enron after its collapse. The filing said that Bankman-Fried had “caused” $10 million to be placed in an FTX account in his name and then immediately transferred the money to his father. Bankman, who has taught on corporations and tax law, then transferred $6.775 million into his personal bank accounts and kept the rest in his FTX account. But while Bankman-Fried described the money as a loan, debtors of FTX and Alameda Research “have been unable … to identify any promissory note, loan agreement, or other indication that the funds were not simply taken from Alameda by Bankman-Fried to enrich his family.” Forbes and other outlets reported that money from the unexplained transfer to Bankman is being used to fund Bankman-Fried’s legal defense. A spokesperson for Bankman and Fried did not respond to a request for comment. Stanford has publicly said very little about the case or Bankman and Fried’s relationship to it, though court filings earlier this year revealed Stanford to be among the list of creditors FTX owed money. Stanford spokespeople did not respond to questions for this article, including one about the extent of Stanford’s financial relationship to FTX. In December, as their son’s multi-billion dollar empire began to unravel, Bankman and Fried shared that they would not be teaching the following quarter. At the time, Fried told The Daily her decision to retire was “long-planned” and that she “hope[d] to” return to teaching, while Bankman declined to comment. Despite the ongoing legal battle and intense public scrutiny placed on both Bankman-Fried and his parents, The Daily has obtained official communications showing that Bankman has continued to play an active role at the school. Bankman is slated to interview a job candidate in late September, mere weeks before his son’s trial begins, according to an email from the SLS Appointments Committee obtained by The Daily. Stephanie Ashe, a spokesperson for SLS, declined to answer questions about Bankman’s relationship with the school, writing that the most up to date information could be found on the SLS website. Bankman’s profile continues to list him as the Ralph M. Parsons Professor of Law and Business. Sent further questions, she wrote that “as a matter of policy, Stanford University and the law school do not take positions on the outside activities of our individual faculty members, nor do we discuss personnel issues or other confidential matters.”\n",
            "[102.19566345214844, 53.373008728027344, 85.79326629638672, 58.597415924072266, 43.257667541503906, 55.87470626831055, 54.18849563598633, 32.23777389526367, 36.79570770263672, 39.734893798828125]\n"
          ]
        }
      ],
      "source": [
        "def calculate_diff_perplexity():\n",
        "  curr_chunks = []\n",
        "  perplexity_scores = []\n",
        "  curr_chunks = split_essay(previous_essay, 10)\n",
        "  for chunk in curr_chunks:\n",
        "    perplexity_scores.append(perplexity(chunk))\n",
        "    output.append(0)\n",
        "  return perplexity_scores\n",
        "perplexity_scores_diff = calculate_diff_perplexity()\n"
      ]
    },
    {
      "cell_type": "code",
      "execution_count": null,
      "metadata": {
        "id": "pzmmbu2MgO9s"
      },
      "outputs": [],
      "source": [
        "def fn():\n",
        "  total = []\n",
        "  for item in p:\n",
        "    total.append(item)\n",
        "  for item in perplexity_scores_diff:\n",
        "    total.append(item)\n",
        "  result = pd.DataFrame(total, columns=['perplexity'])\n",
        "  output = [0 for x in p]\n",
        "  output2 = [1 for x in perplexity_scores_diff]\n",
        "  output.extend(output2)\n",
        "  return result"
      ]
    },
    {
      "cell_type": "code",
      "execution_count": null,
      "metadata": {
        "id": "T0r0NnJ5lDcQ"
      },
      "outputs": [],
      "source": [
        "from collections import defaultdict\n",
        "\n",
        "def find_ngrams(sentence, n):\n",
        "    ngrams_freq = defaultdict(int)\n",
        "    words = sentence.lower().split()\n",
        "\n",
        "    # Generate n-grams\n",
        "    for i in range(len(words) - n + 1):\n",
        "        ngram = ' '.join(words[i:i + n])\n",
        "        ngrams_freq[ngram] += 1\n",
        "    return ngrams_freq\n",
        "\n",
        "def calculate_probabilities(new_sentence, ngrams_freq):\n",
        "    words = new_sentence.lower().split()\n",
        "    n = len(list(ngrams_freq.keys())[0].split())  # Get the n-gram size\n",
        "\n",
        "    total_ngrams = len(words) - n + 1\n",
        "    probabilities = {}\n",
        "\n",
        "    for i in range(len(words) - n + 1):\n",
        "        ngram = ' '.join(words[i:i + n])\n",
        "        frequency = ngrams_freq[ngram] if ngram in ngrams_freq else 0\n",
        "        probabilities[ngram] = (frequency / len(ngrams_freq)) # Probability based on total distinct n-grams in old sentence\n",
        "    return probabilities"
      ]
    },
    {
      "cell_type": "code",
      "execution_count": null,
      "metadata": {
        "id": "f-JdkRCRP7NU"
      },
      "outputs": [],
      "source": [
        "# in this function, we are getting the frequencies of the comparison, and calculating the probability that each n gram in essay is in comparison\n",
        "def main(comparison, essay, curr, num_parts):\n",
        "    # break content into sentences\n",
        "    #sentences = sent_tokenize(previous_essay)\n",
        "    previous_essay_parts = split_essay(comparison, num_parts)\n",
        "    total = []\n",
        "    print\n",
        "    for part in previous_essay_parts:\n",
        "        scores = []\n",
        "        for i in range(1, 4):\n",
        "            ngrams_freq = find_ngrams(part, i)\n",
        "            if ngrams_freq == {}:\n",
        "              continue\n",
        "            scores.append(sum(calculate_probabilities(essay, ngrams_freq).values()))\n",
        "        total.append(scores)\n",
        "        if curr == True:\n",
        "          scores.append(1)\n",
        "        else:\n",
        "          scores.append(0)\n",
        "    return total"
      ]
    },
    {
      "cell_type": "code",
      "execution_count": null,
      "metadata": {
        "id": "MOG1j8mmizVc"
      },
      "outputs": [],
      "source": [
        "def getOverallDF(gpt_essays, previous_essay, previous_essay_2):\n",
        "  new = []\n",
        "  for essay in gpt_essays:\n",
        "    new += (main(previous_essay_2, essay, False, 5))\n",
        "  new += (main(previous_essay_2, previous_essay, True, 10))\n",
        "  df = pd.DataFrame(new, columns=['n1', 'n2', 'n3', 'y'])\n",
        "  perp_df = fn()\n",
        "  combined_df = pd.concat([perp_df, df], axis=1)\n",
        "  combined_df['perplexity'] = combined_df['perplexity'] / combined_df['perplexity'].max()\n",
        "  return combined_df"
      ]
    },
    {
      "cell_type": "code",
      "execution_count": null,
      "metadata": {
        "id": "PR0iK6rtsLtH"
      },
      "outputs": [],
      "source": [
        "def count_words(sentence):\n",
        "    words = sentence.split()\n",
        "    return len(words)"
      ]
    },
    {
      "cell_type": "code",
      "execution_count": null,
      "metadata": {
        "id": "1LdlYXQjwagR"
      },
      "outputs": [],
      "source": [
        "def train_model(df, current_content):\n",
        "  from sklearn.model_selection import train_test_split\n",
        "  from sklearn.linear_model import LogisticRegression\n",
        "  from sklearn.preprocessing import StandardScaler\n",
        "  from sklearn.metrics import accuracy_score, classification_report\n",
        "  import numpy as np\n",
        "  from sklearn.linear_model import Lasso\n",
        "\n",
        "  # Assuming 'df' is your DataFrame and 'target_column' is the column you want to predict\n",
        "\n",
        "  # Separate the features (X) and target variable (y)\n",
        "  X = df.drop(columns=['y'])  # Features\n",
        "  y = df['y']  # Target variable\n",
        "\n",
        "  # Split the data into training and test sets (80% train, 20% test)\n",
        "  X_train, X_test, y_train, y_test = train_test_split(X, y, test_size=0.3, random_state=42)\n",
        "\n",
        "  # Standardize the features (optional but often recommended)\n",
        "  scaler = StandardScaler()\n",
        "  X_train = scaler.fit_transform(X_train)\n",
        "  X_test = scaler.transform(X_test)\n",
        "\n",
        "  # Applying L1 regularization (Lasso) in Logistic Regression\n",
        "  model = LogisticRegression(penalty='l1', solver='liblinear', C=1)  # C is the inverse of regularization strength\n",
        "  model.fit(X_train, y_train)\n",
        "  \"\"\"\n",
        "  # Create a logistic regression model\n",
        "  model = LogisticRegression()\n",
        "  # Fit the model on the training data\n",
        "  model.fit(X_train, y_train)\"\"\"\n",
        "\n",
        "  # Predict on the test data\n",
        "  y_pred = model.predict(X_test)\n",
        "  print(y_pred)\n",
        "  # Evaluate the model\n",
        "  accuracy = accuracy_score(y_test, y_pred)\n",
        "  print(f\"Accuracy: {accuracy:.2f}\")\n",
        "\n",
        "  # Print classification report\n",
        "  print(\"Classification Report:\")\n",
        "  coefficients = model.coef_\n",
        "  intercept = model.intercept_\n",
        "  print(coefficients, intercept)\n",
        "\n",
        "  point = main(previous_essay_2, current_content, True, 2)\n",
        "  curr_point = point[0]\n",
        "  sentences = split_into_sentences(current_content)\n",
        "  i = 0\n",
        "  perp = 0\n",
        "  while i < 5 or i == len(sentences) - 1:\n",
        "    i += 1\n",
        "  words = 0\n",
        "  for sentence in sentences[:i]:\n",
        "    words += count_words(sentence)\n",
        "    perp += (perplexity(sentence) * count_words(sentence))\n",
        "  curr_perplexity = perp / (words * i)\n",
        "  curr_point.insert(0, curr_perplexity / 100)\n",
        "  del curr_point[4]\n",
        "  predicted_label = model.predict([curr_point])\n",
        "  probabilities = model.predict_proba([curr_point]) # considering positive class probabilities\n",
        "  if predicted_label == 0:\n",
        "    return ('ChatGPT!', probabilities)\n",
        "  else:\n",
        "    return (\"Human\", probabilities)"
      ]
    },
    {
      "cell_type": "code",
      "execution_count": null,
      "metadata": {
        "id": "U5VE_SK3MrVT"
      },
      "outputs": [],
      "source": [
        "worldessay = \"\"\"\n",
        "ChatGPT\n",
        "ChatGPT\n",
        "The world we inhabit is an intricate tapestry woven from diverse cultures, histories, landscapes, and peoples. It's a place of both remarkable beauty and complexity, shaped by myriad factors including geography, society, politics, economics, and human interactions. Attempting to encapsulate the entirety of the world within an essay is an ambitious task, yet it's an opportunity to explore and celebrate the rich tapestry of our global existence.\n",
        "\n",
        "Geographically, our planet is a marvel, adorned with stunning landscapes ranging from lush rainforests to sprawling deserts, towering mountain ranges, vibrant coral reefs, and expansive oceans. These diverse environments harbor an array of life forms, showcasing the wonders of biodiversity and the interconnectedness of ecosystems. The natural world not only provides resources for our survival but also inspires awe and reverence, inviting us to appreciate its beauty and work towards its preservation.\n",
        "\n",
        "However, the world is not just about nature; it is equally defined by the societies and cultures that inhabit it. Humanity's history is a mosaic of triumphs and struggles, revolutions and evolutions, discoveries and setbacks. Cultures have flourished, collided, and merged, giving rise to a rich tapestry of traditions, languages, art, music, literature, and beliefs. Each culture adds a unique hue to the global canvas, contributing to the vibrancy and diversity of our collective identity.\n",
        "\n",
        "In the modern era, the world is interconnected like never before. Advancements in technology and transportation have transcended geographical boundaries, enabling swift communication and exchange of ideas across continents. Globalization has woven intricate networks of trade, economics, and cultural exchange, shaping our interconnectedness and dependence on one another. While this interconnectedness offers immense opportunities for collaboration and progress, it also presents challenges such as inequality, environmental degradation, and cultural homogenization.\n",
        "\n",
        "Politics and governance play a pivotal role in shaping the world. Nations and international organizations navigate complex relationships, negotiate treaties, and address global issues such as climate change, human rights, poverty, and conflicts. The world stage is a theater of diplomacy, where decisions made by leaders impact not just individual nations but reverberate across borders, affecting the lives of billions.\n",
        "\n",
        "Economics, too, is a significant force that influences the world. The global economy is a web of interconnected markets, industries, and financial systems. Trade, investments, and economic policies shape livelihoods, drive innovation, and affect the distribution of wealth and resources, influencing the quality of life for individuals and communities worldwide.\n",
        "\n",
        "Moreover, the world is marked by societal diversity and the continuous pursuit of progress. Movements advocating for equality, justice, and human rights strive to create a world where every individual is valued and has opportunities for growth. Science and innovation propel us forward, pushing the boundaries of knowledge and opening new frontiers in technology, medicine, and exploration.\n",
        "\n",
        "However, amid this intricate mosaic, challenges persist. Issues such as climate change, poverty, inequality, geopolitical tensions, global health crises, and humanitarian crises demand urgent attention and collective action. The interconnectedness of our world necessitates global cooperation and solidarity to address these pressing challenges and create a more sustainable and equitable future for all.\n",
        "\n",
        "In conclusion, the world is a multifaceted, ever-evolving entity—a mosaic of cultures, landscapes, histories, and aspirations. It is a testament to human resilience, creativity, and adaptability. Embracing the diversity and interconnectedness of our global community while addressing the challenges that lie ahead is crucial for fostering a world where harmony, progress, and mutual respect prevail. As inhabitants of this planet, it is our collective responsibility to work towards a world that celebrates diversity, ensures justice, preserves the environment, and cherishes the inherent dignity of every individual.\"\"\""
      ]
    },
    {
      "cell_type": "code",
      "execution_count": null,
      "metadata": {
        "colab": {
          "base_uri": "https://localhost:8080/"
        },
        "id": "uEfh7wO07DJQ",
        "outputId": "fddb0573-e011-4518-fec7-986ddf6b4e99"
      },
      "outputs": [
        {
          "name": "stdout",
          "output_type": "stream",
          "text": [
            "[26.036727905273438, 26.893930435180664, 25.469036102294922, 27.474502563476562, 27.375598907470703, 23.082990646362305, 17.19061279296875, 41.049922943115234, 39.12336730957031, 25.34739112854004, 14.319299697875977, 13.154305458068848, 16.40509796142578, 15.835846900939941, 16.24361228942871, 17.592214584350586, 34.21822738647461, 30.925180435180664, 30.676794052124023, 29.65205955505371, 18.87993812561035, 27.12388801574707, 17.837697982788086, 20.08051872253418, 33.506229400634766, 102.19566345214844, 53.373008728027344, 85.79326629638672, 58.597415924072266, 43.257667541503906, 55.87470626831055, 54.18849563598633, 32.23777389526367, 36.79570770263672, 39.734893798828125]\n",
            "[0, 0, 0, 0, 0, 0, 0, 0, 0, 0, 0, 0, 0, 0, 0, 0, 0, 0, 0, 0, 0, 0, 0, 0, 0, 1, 1, 1, 1, 1, 1, 1, 1, 1, 1]\n",
            "[1 0 0 0 0 1 0 0 1 0 0]\n",
            "Accuracy: 0.91\n",
            "Classification Report:\n",
            "[[2.41330095 0.43405104 0.82028907 0.        ]] [-0.59580108]\n",
            "('ChatGPT!', array([[0.54030423, 0.45969577]]))\n"
          ]
        }
      ],
      "source": [
        "# trained on user's past content\n",
        "df = getOverallDF(essays, author[3], author[4])\n",
        "val = train_model(df, worldessay)\n",
        "print(val)"
      ]
    },
    {
      "cell_type": "code",
      "execution_count": null,
      "metadata": {
        "colab": {
          "base_uri": "https://localhost:8080/"
        },
        "id": "dVs9KS0mlu2-",
        "outputId": "8d488748-18f0-473c-a28e-a27ebbfa4a39"
      },
      "outputs": [
        {
          "name": "stdout",
          "output_type": "stream",
          "text": [
            "ChatGPT!\n"
          ]
        }
      ],
      "source": [
        "if val[1][0][0] > 0.50:\n",
        "    print(\"ChatGPT!\")\n",
        "else:\n",
        "    print(\"Human\")"
      ]
    }
  ],
  "metadata": {
    "colab": {
      "provenance": [],
      "authorship_tag": "ABX9TyOXccsay2ieoIkePFk1KYYu",
      "include_colab_link": true
    },
    "kernelspec": {
      "display_name": "Python 3",
      "name": "python3"
    },
    "language_info": {
      "name": "python"
    }
  },
  "nbformat": 4,
  "nbformat_minor": 0
}